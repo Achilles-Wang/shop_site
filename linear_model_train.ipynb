{
 "cells": [
  {
   "cell_type": "markdown",
   "metadata": {},
   "source": [
    "# 数据的处理\n",
    " * 原始数据名字为df\n",
    " * 经过标准化和独热编码后的数据名为pro_df"
   ]
  },
  {
   "cell_type": "code",
   "execution_count": 2,
   "metadata": {
    "ExecuteTime": {
     "end_time": "2019-01-08T08:15:40.741928Z",
     "start_time": "2019-01-08T08:15:40.224785Z"
    }
   },
   "outputs": [],
   "source": [
    "import pandas as pd\n",
    "import numpy as np"
   ]
  },
  {
   "cell_type": "code",
   "execution_count": 3,
   "metadata": {
    "ExecuteTime": {
     "end_time": "2019-01-08T08:15:44.837963Z",
     "start_time": "2019-01-08T08:15:42.159182Z"
    }
   },
   "outputs": [],
   "source": [
    "df=pd.read_excel('最终数据1125.xlsx',sheet_name='Sheet2',index_col=0)"
   ]
  },
  {
   "cell_type": "code",
   "execution_count": 4,
   "metadata": {
    "ExecuteTime": {
     "end_time": "2019-01-08T08:15:46.483392Z",
     "start_time": "2019-01-08T08:15:46.453867Z"
    }
   },
   "outputs": [
    {
     "data": {
      "text/html": [
       "<div>\n",
       "<style scoped>\n",
       "    .dataframe tbody tr th:only-of-type {\n",
       "        vertical-align: middle;\n",
       "    }\n",
       "\n",
       "    .dataframe tbody tr th {\n",
       "        vertical-align: top;\n",
       "    }\n",
       "\n",
       "    .dataframe thead th {\n",
       "        text-align: right;\n",
       "    }\n",
       "</style>\n",
       "<table border=\"1\" class=\"dataframe\">\n",
       "  <thead>\n",
       "    <tr style=\"text-align: right;\">\n",
       "      <th></th>\n",
       "      <th>H&amp;M</th>\n",
       "      <th>miniso$名创优品</th>\n",
       "      <th>餐饮$吃喝</th>\n",
       "      <th>超市</th>\n",
       "      <th>服装</th>\n",
       "      <th>家居</th>\n",
       "      <th>酒店</th>\n",
       "      <th>美容</th>\n",
       "      <th>屈臣氏</th>\n",
       "      <th>商场$购物</th>\n",
       "      <th>...</th>\n",
       "      <th>离入口/楼梯口距离</th>\n",
       "      <th>经营性质</th>\n",
       "      <th>店铺类型</th>\n",
       "      <th>地区</th>\n",
       "      <th>开业月份</th>\n",
       "      <th>开业时间30天内</th>\n",
       "      <th>30-60天</th>\n",
       "      <th>开业时间大于60</th>\n",
       "      <th>日均销售额</th>\n",
       "      <th>预计平均日销</th>\n",
       "    </tr>\n",
       "    <tr>\n",
       "      <th>行标签</th>\n",
       "      <th></th>\n",
       "      <th></th>\n",
       "      <th></th>\n",
       "      <th></th>\n",
       "      <th></th>\n",
       "      <th></th>\n",
       "      <th></th>\n",
       "      <th></th>\n",
       "      <th></th>\n",
       "      <th></th>\n",
       "      <th></th>\n",
       "      <th></th>\n",
       "      <th></th>\n",
       "      <th></th>\n",
       "      <th></th>\n",
       "      <th></th>\n",
       "      <th></th>\n",
       "      <th></th>\n",
       "      <th></th>\n",
       "      <th></th>\n",
       "      <th></th>\n",
       "    </tr>\n",
       "  </thead>\n",
       "  <tbody>\n",
       "    <tr>\n",
       "      <th>NM000283</th>\n",
       "      <td>0</td>\n",
       "      <td>0</td>\n",
       "      <td>50</td>\n",
       "      <td>3</td>\n",
       "      <td>16</td>\n",
       "      <td>4</td>\n",
       "      <td>12</td>\n",
       "      <td>8</td>\n",
       "      <td>0</td>\n",
       "      <td>51</td>\n",
       "      <td>...</td>\n",
       "      <td>20</td>\n",
       "      <td>加盟</td>\n",
       "      <td>常规店</td>\n",
       "      <td>华东</td>\n",
       "      <td>10月</td>\n",
       "      <td>0</td>\n",
       "      <td>0</td>\n",
       "      <td>1</td>\n",
       "      <td>11872.84</td>\n",
       "      <td>15068.493151</td>\n",
       "    </tr>\n",
       "    <tr>\n",
       "      <th>NM000276</th>\n",
       "      <td>0</td>\n",
       "      <td>1</td>\n",
       "      <td>50</td>\n",
       "      <td>2</td>\n",
       "      <td>146</td>\n",
       "      <td>6</td>\n",
       "      <td>4</td>\n",
       "      <td>10</td>\n",
       "      <td>0</td>\n",
       "      <td>51</td>\n",
       "      <td>...</td>\n",
       "      <td>15</td>\n",
       "      <td>加盟</td>\n",
       "      <td>常规店</td>\n",
       "      <td>华东</td>\n",
       "      <td>9月</td>\n",
       "      <td>0</td>\n",
       "      <td>0</td>\n",
       "      <td>1</td>\n",
       "      <td>20098.87</td>\n",
       "      <td>17808.219178</td>\n",
       "    </tr>\n",
       "    <tr>\n",
       "      <th>NM000373</th>\n",
       "      <td>1</td>\n",
       "      <td>1</td>\n",
       "      <td>50</td>\n",
       "      <td>9</td>\n",
       "      <td>337</td>\n",
       "      <td>154</td>\n",
       "      <td>13</td>\n",
       "      <td>20</td>\n",
       "      <td>1</td>\n",
       "      <td>53</td>\n",
       "      <td>...</td>\n",
       "      <td>5</td>\n",
       "      <td>加盟</td>\n",
       "      <td>标杆店</td>\n",
       "      <td>华东</td>\n",
       "      <td>11月</td>\n",
       "      <td>0</td>\n",
       "      <td>1</td>\n",
       "      <td>0</td>\n",
       "      <td>20171.05</td>\n",
       "      <td>17808.219178</td>\n",
       "    </tr>\n",
       "    <tr>\n",
       "      <th>NM000245</th>\n",
       "      <td>0</td>\n",
       "      <td>0</td>\n",
       "      <td>21</td>\n",
       "      <td>3</td>\n",
       "      <td>0</td>\n",
       "      <td>11</td>\n",
       "      <td>6</td>\n",
       "      <td>3</td>\n",
       "      <td>0</td>\n",
       "      <td>26</td>\n",
       "      <td>...</td>\n",
       "      <td>20</td>\n",
       "      <td>加盟</td>\n",
       "      <td>常规店</td>\n",
       "      <td>华东</td>\n",
       "      <td>11月</td>\n",
       "      <td>0</td>\n",
       "      <td>1</td>\n",
       "      <td>0</td>\n",
       "      <td>9055.49</td>\n",
       "      <td>13698.630137</td>\n",
       "    </tr>\n",
       "    <tr>\n",
       "      <th>NM000049</th>\n",
       "      <td>1</td>\n",
       "      <td>1</td>\n",
       "      <td>50</td>\n",
       "      <td>5</td>\n",
       "      <td>156</td>\n",
       "      <td>10</td>\n",
       "      <td>3</td>\n",
       "      <td>19</td>\n",
       "      <td>1</td>\n",
       "      <td>50</td>\n",
       "      <td>...</td>\n",
       "      <td>10</td>\n",
       "      <td>加盟</td>\n",
       "      <td>标杆店</td>\n",
       "      <td>华东</td>\n",
       "      <td>4月</td>\n",
       "      <td>0</td>\n",
       "      <td>0</td>\n",
       "      <td>1</td>\n",
       "      <td>30041.30</td>\n",
       "      <td>19178.082192</td>\n",
       "    </tr>\n",
       "  </tbody>\n",
       "</table>\n",
       "<p>5 rows × 40 columns</p>\n",
       "</div>"
      ],
      "text/plain": [
       "          H&M  miniso$名创优品  餐饮$吃喝  超市   服装   家居  酒店  美容  屈臣氏  商场$购物  \\\n",
       "行标签                                                                   \n",
       "NM000283    0            0     50   3   16    4  12   8    0     51   \n",
       "NM000276    0            1     50   2  146    6   4  10    0     51   \n",
       "NM000373    1            1     50   9  337  154  13  20    1     53   \n",
       "NM000245    0            0     21   3    0   11   6   3    0     26   \n",
       "NM000049    1            1     50   5  156   10   3  19    1     50   \n",
       "\n",
       "              ...       离入口/楼梯口距离  经营性质  店铺类型  地区  开业月份 开业时间30天内  30-60天  \\\n",
       "行标签           ...                                                          \n",
       "NM000283      ...              20    加盟   常规店  华东   10月        0       0   \n",
       "NM000276      ...              15    加盟   常规店  华东    9月        0       0   \n",
       "NM000373      ...               5    加盟   标杆店  华东   11月        0       1   \n",
       "NM000245      ...              20    加盟   常规店  华东   11月        0       1   \n",
       "NM000049      ...              10    加盟   标杆店  华东    4月        0       0   \n",
       "\n",
       "          开业时间大于60     日均销售额        预计平均日销  \n",
       "行标签                                         \n",
       "NM000283         1  11872.84  15068.493151  \n",
       "NM000276         1  20098.87  17808.219178  \n",
       "NM000373         0  20171.05  17808.219178  \n",
       "NM000245         0   9055.49  13698.630137  \n",
       "NM000049         1  30041.30  19178.082192  \n",
       "\n",
       "[5 rows x 40 columns]"
      ]
     },
     "execution_count": 4,
     "metadata": {},
     "output_type": "execute_result"
    }
   ],
   "source": [
    "df.head()"
   ]
  },
  {
   "cell_type": "code",
   "execution_count": 5,
   "metadata": {
    "ExecuteTime": {
     "end_time": "2019-01-08T01:25:49.912107Z",
     "start_time": "2019-01-08T01:25:49.905102Z"
    }
   },
   "outputs": [
    {
     "data": {
      "text/plain": [
       "H&M              False\n",
       "miniso$名创优品      False\n",
       "餐饮$吃喝            False\n",
       "超市               False\n",
       "服装               False\n",
       "家居               False\n",
       "酒店               False\n",
       "美容               False\n",
       "屈臣氏              False\n",
       "商场$购物            False\n",
       "无印良品             False\n",
       "小区$住宅            False\n",
       "星巴客$Starbucks    False\n",
       "学校               False\n",
       "银行               False\n",
       "城市级别             False\n",
       "面积               False\n",
       "房价               False\n",
       "城市可支配收入          False\n",
       "租金               False\n",
       "楼层               False\n",
       "商圈类型             False\n",
       "开头门间             False\n",
       "商圈等级             False\n",
       "地铁               False\n",
       "商场内部地铁           False\n",
       "距离地铁50m          False\n",
       "地铁50-150         False\n",
       "地铁150-500        False\n",
       "地铁500以上          False\n",
       "离入口/楼梯口距离        False\n",
       "经营性质             False\n",
       "店铺类型             False\n",
       "地区               False\n",
       "开业月份             False\n",
       "开业时间30天内         False\n",
       "30-60天           False\n",
       "开业时间大于60         False\n",
       "日均销售额            False\n",
       "预计平均日销            True\n",
       "dtype: bool"
      ]
     },
     "execution_count": 5,
     "metadata": {},
     "output_type": "execute_result"
    }
   ],
   "source": [
    "df.isna().any()"
   ]
  },
  {
   "cell_type": "code",
   "execution_count": 5,
   "metadata": {
    "ExecuteTime": {
     "end_time": "2019-01-08T08:25:49.008942Z",
     "start_time": "2019-01-08T08:25:46.749644Z"
    }
   },
   "outputs": [
    {
     "name": "stdout",
     "output_type": "stream",
     "text": [
      "<class 'pandas.core.frame.DataFrame'>\n",
      "Index: 332 entries, NM000283 to NM000086\n",
      "Data columns (total 77 columns):\n",
      "H&M              332 non-null int64\n",
      "miniso$名创优品      332 non-null int64\n",
      "餐饮$吃喝            332 non-null int64\n",
      "超市               332 non-null int64\n",
      "服装               332 non-null int64\n",
      "家居               332 non-null int64\n",
      "酒店               332 non-null int64\n",
      "美容               332 non-null int64\n",
      "屈臣氏              332 non-null int64\n",
      "商场$购物            332 non-null int64\n",
      "无印良品             332 non-null int64\n",
      "小区$住宅            332 non-null int64\n",
      "星巴客$Starbucks    332 non-null int64\n",
      "学校               332 non-null int64\n",
      "银行               332 non-null int64\n",
      "面积               332 non-null float64\n",
      "房价               332 non-null int64\n",
      "城市可支配收入          332 non-null int64\n",
      "租金               332 non-null float64\n",
      "开头门间             332 non-null float64\n",
      "地铁               332 non-null int64\n",
      "商场内部地铁           332 non-null int64\n",
      "距离地铁50m          332 non-null int64\n",
      "地铁50-150         332 non-null int64\n",
      "地铁150-500        332 non-null int64\n",
      "地铁500以上          332 non-null int64\n",
      "离入口/楼梯口距离        332 non-null int64\n",
      "开业时间30天内         332 non-null int64\n",
      "30-60天           332 non-null int64\n",
      "开业时间大于60         332 non-null int64\n",
      "日均销售额            332 non-null float64\n",
      "预计平均日销           332 non-null float64\n",
      "城市级别_一线          332 non-null uint8\n",
      "城市级别_三线          332 non-null uint8\n",
      "城市级别_二线          332 non-null uint8\n",
      "城市级别_五线          332 non-null uint8\n",
      "城市级别_四线          332 non-null uint8\n",
      "城市级别_新一线         332 non-null uint8\n",
      "楼层_-1楼           332 non-null uint8\n",
      "楼层_-2楼           332 non-null uint8\n",
      "楼层_0楼            332 non-null uint8\n",
      "楼层_1楼            332 non-null uint8\n",
      "楼层_2楼            332 non-null uint8\n",
      "楼层_3楼            332 non-null uint8\n",
      "楼层_4楼            332 non-null uint8\n",
      "商圈类型_住宅区         332 non-null uint8\n",
      "商圈类型_商业区         332 non-null uint8\n",
      "商圈类型_混合区         332 non-null uint8\n",
      "商圈类型_科教区         332 non-null uint8\n",
      "商圈等级_主流          332 non-null uint8\n",
      "商圈等级_百货          332 non-null uint8\n",
      "商圈等级_社区          332 non-null uint8\n",
      "商圈等级_高端          332 non-null uint8\n",
      "经营性质_公投          332 non-null uint8\n",
      "经营性质_加盟          332 non-null uint8\n",
      "经营性质_直营          332 non-null uint8\n",
      "店铺类型_常规店         332 non-null uint8\n",
      "店铺类型_战略店         332 non-null uint8\n",
      "店铺类型_标杆店         332 non-null uint8\n",
      "地区_华东            332 non-null uint8\n",
      "地区_华中            332 non-null uint8\n",
      "地区_华北            332 non-null uint8\n",
      "地区_华南            332 non-null uint8\n",
      "地区_西北            332 non-null uint8\n",
      "地区_西南            332 non-null uint8\n",
      "开业月份_10月         332 non-null uint8\n",
      "开业月份_11月         332 non-null uint8\n",
      "开业月份_12月         332 non-null uint8\n",
      "开业月份_1月          332 non-null uint8\n",
      "开业月份_2月          332 non-null uint8\n",
      "开业月份_3月          332 non-null uint8\n",
      "开业月份_4月          332 non-null uint8\n",
      "开业月份_5月          332 non-null uint8\n",
      "开业月份_6月          332 non-null uint8\n",
      "开业月份_7月          332 non-null uint8\n",
      "开业月份_8月          332 non-null uint8\n",
      "开业月份_9月          332 non-null uint8\n",
      "dtypes: float64(5), int64(27), uint8(45)\n",
      "memory usage: 100.2+ KB\n"
     ]
    }
   ],
   "source": [
    "#得到onehotencoder后的数据\n",
    "#df=df.astype({'城市级别':'object','楼层':'object','商圈类型':'object','商圈等级':'object','经营性质':'object','店铺类型':'object','地区':'object'})\n",
    "df=pd.get_dummies(df)\n",
    "df.dropna(inplace=True)\n",
    "df.to_csv('df.csv')\n",
    "pro_df=pd.read_csv('df.csv',index_col=0)\n",
    "df.info()"
   ]
  },
  {
   "cell_type": "code",
   "execution_count": 6,
   "metadata": {
    "ExecuteTime": {
     "end_time": "2019-01-08T08:25:53.037364Z",
     "start_time": "2019-01-08T08:25:52.571935Z"
    }
   },
   "outputs": [
    {
     "data": {
      "text/plain": [
       "Index(['H&M', 'miniso$名创优品', '餐饮$吃喝', '超市', '服装', '家居', '酒店', '美容', '屈臣氏',\n",
       "       '商场$购物', '无印良品', '小区$住宅', '星巴客$Starbucks', '学校', '银行', '面积', '房价',\n",
       "       '城市可支配收入', '租金', '开头门间', '地铁', '商场内部地铁', '距离地铁50m', '地铁50-150',\n",
       "       '地铁150-500', '地铁500以上', '离入口/楼梯口距离', '开业时间30天内', '30-60天', '开业时间大于60',\n",
       "       '日均销售额', '预计平均日销', '城市级别_一线', '城市级别_三线', '城市级别_二线', '城市级别_五线',\n",
       "       '城市级别_四线', '城市级别_新一线', '楼层_-1楼', '楼层_-2楼', '楼层_0楼', '楼层_1楼', '楼层_2楼',\n",
       "       '楼层_3楼', '楼层_4楼', '商圈类型_住宅区', '商圈类型_商业区', '商圈类型_混合区', '商圈类型_科教区',\n",
       "       '商圈等级_主流', '商圈等级_百货', '商圈等级_社区', '商圈等级_高端', '经营性质_公投', '经营性质_加盟',\n",
       "       '经营性质_直营', '店铺类型_常规店', '店铺类型_战略店', '店铺类型_标杆店', '地区_华东', '地区_华中',\n",
       "       '地区_华北', '地区_华南', '地区_西北', '地区_西南', '开业月份_10月', '开业月份_11月', '开业月份_12月',\n",
       "       '开业月份_1月', '开业月份_2月', '开业月份_3月', '开业月份_4月', '开业月份_5月', '开业月份_6月',\n",
       "       '开业月份_7月', '开业月份_8月', '开业月份_9月'],\n",
       "      dtype='object')"
      ]
     },
     "execution_count": 6,
     "metadata": {},
     "output_type": "execute_result"
    }
   ],
   "source": [
    "import warnings \n",
    "warnings.filterwarnings('ignore')\n",
    "#其他数据z标准化\n",
    "from sklearn.preprocessing import StandardScaler\n",
    "stand=StandardScaler()\n",
    "for i in pro_df.columns:\n",
    "    if len(pro_df.loc[:,i].unique())!=2:\n",
    "        pro_df.loc[:,i]=stand.fit_transform(pro_df.loc[:,i].values.reshape((-1,1))).reshape((1,-1))[0]\n",
    "pro_df.columns"
   ]
  },
  {
   "cell_type": "code",
   "execution_count": 8,
   "metadata": {
    "ExecuteTime": {
     "end_time": "2019-01-08T01:26:08.921252Z",
     "start_time": "2019-01-08T01:26:08.899253Z"
    }
   },
   "outputs": [
    {
     "data": {
      "text/html": [
       "<div>\n",
       "<style scoped>\n",
       "    .dataframe tbody tr th:only-of-type {\n",
       "        vertical-align: middle;\n",
       "    }\n",
       "\n",
       "    .dataframe tbody tr th {\n",
       "        vertical-align: top;\n",
       "    }\n",
       "\n",
       "    .dataframe thead th {\n",
       "        text-align: right;\n",
       "    }\n",
       "</style>\n",
       "<table border=\"1\" class=\"dataframe\">\n",
       "  <thead>\n",
       "    <tr style=\"text-align: right;\">\n",
       "      <th></th>\n",
       "      <th>H&amp;M</th>\n",
       "      <th>miniso$名创优品</th>\n",
       "      <th>餐饮$吃喝</th>\n",
       "      <th>超市</th>\n",
       "      <th>服装</th>\n",
       "      <th>家居</th>\n",
       "      <th>酒店</th>\n",
       "      <th>美容</th>\n",
       "      <th>屈臣氏</th>\n",
       "      <th>商场$购物</th>\n",
       "      <th>...</th>\n",
       "      <th>开业月份_12月</th>\n",
       "      <th>开业月份_1月</th>\n",
       "      <th>开业月份_2月</th>\n",
       "      <th>开业月份_3月</th>\n",
       "      <th>开业月份_4月</th>\n",
       "      <th>开业月份_5月</th>\n",
       "      <th>开业月份_6月</th>\n",
       "      <th>开业月份_7月</th>\n",
       "      <th>开业月份_8月</th>\n",
       "      <th>开业月份_9月</th>\n",
       "    </tr>\n",
       "    <tr>\n",
       "      <th>行标签</th>\n",
       "      <th></th>\n",
       "      <th></th>\n",
       "      <th></th>\n",
       "      <th></th>\n",
       "      <th></th>\n",
       "      <th></th>\n",
       "      <th></th>\n",
       "      <th></th>\n",
       "      <th></th>\n",
       "      <th></th>\n",
       "      <th></th>\n",
       "      <th></th>\n",
       "      <th></th>\n",
       "      <th></th>\n",
       "      <th></th>\n",
       "      <th></th>\n",
       "      <th></th>\n",
       "      <th></th>\n",
       "      <th></th>\n",
       "      <th></th>\n",
       "      <th></th>\n",
       "    </tr>\n",
       "  </thead>\n",
       "  <tbody>\n",
       "    <tr>\n",
       "      <th>NM000283</th>\n",
       "      <td>0</td>\n",
       "      <td>0</td>\n",
       "      <td>0.951932</td>\n",
       "      <td>-0.387128</td>\n",
       "      <td>-0.484610</td>\n",
       "      <td>-0.173002</td>\n",
       "      <td>0.887324</td>\n",
       "      <td>0.054061</td>\n",
       "      <td>0</td>\n",
       "      <td>0.676819</td>\n",
       "      <td>...</td>\n",
       "      <td>0.0</td>\n",
       "      <td>0</td>\n",
       "      <td>0</td>\n",
       "      <td>0</td>\n",
       "      <td>0</td>\n",
       "      <td>0</td>\n",
       "      <td>0</td>\n",
       "      <td>0</td>\n",
       "      <td>0</td>\n",
       "      <td>0</td>\n",
       "    </tr>\n",
       "    <tr>\n",
       "      <th>NM000276</th>\n",
       "      <td>0</td>\n",
       "      <td>1</td>\n",
       "      <td>0.951932</td>\n",
       "      <td>-0.633821</td>\n",
       "      <td>1.462856</td>\n",
       "      <td>-0.069232</td>\n",
       "      <td>-0.068754</td>\n",
       "      <td>0.321943</td>\n",
       "      <td>0</td>\n",
       "      <td>0.676819</td>\n",
       "      <td>...</td>\n",
       "      <td>0.0</td>\n",
       "      <td>0</td>\n",
       "      <td>0</td>\n",
       "      <td>0</td>\n",
       "      <td>0</td>\n",
       "      <td>0</td>\n",
       "      <td>0</td>\n",
       "      <td>0</td>\n",
       "      <td>0</td>\n",
       "      <td>1</td>\n",
       "    </tr>\n",
       "    <tr>\n",
       "      <th>NM000373</th>\n",
       "      <td>1</td>\n",
       "      <td>1</td>\n",
       "      <td>0.951932</td>\n",
       "      <td>1.093025</td>\n",
       "      <td>4.324133</td>\n",
       "      <td>7.609750</td>\n",
       "      <td>1.006833</td>\n",
       "      <td>1.661353</td>\n",
       "      <td>1</td>\n",
       "      <td>0.789452</td>\n",
       "      <td>...</td>\n",
       "      <td>0.0</td>\n",
       "      <td>0</td>\n",
       "      <td>0</td>\n",
       "      <td>0</td>\n",
       "      <td>0</td>\n",
       "      <td>0</td>\n",
       "      <td>0</td>\n",
       "      <td>0</td>\n",
       "      <td>0</td>\n",
       "      <td>0</td>\n",
       "    </tr>\n",
       "    <tr>\n",
       "      <th>NM000245</th>\n",
       "      <td>0</td>\n",
       "      <td>0</td>\n",
       "      <td>-0.638697</td>\n",
       "      <td>-0.387128</td>\n",
       "      <td>-0.724299</td>\n",
       "      <td>0.190193</td>\n",
       "      <td>0.170265</td>\n",
       "      <td>-0.615645</td>\n",
       "      <td>0</td>\n",
       "      <td>-0.731100</td>\n",
       "      <td>...</td>\n",
       "      <td>0.0</td>\n",
       "      <td>0</td>\n",
       "      <td>0</td>\n",
       "      <td>0</td>\n",
       "      <td>0</td>\n",
       "      <td>0</td>\n",
       "      <td>0</td>\n",
       "      <td>0</td>\n",
       "      <td>0</td>\n",
       "      <td>0</td>\n",
       "    </tr>\n",
       "    <tr>\n",
       "      <th>NM000049</th>\n",
       "      <td>1</td>\n",
       "      <td>1</td>\n",
       "      <td>0.951932</td>\n",
       "      <td>0.106256</td>\n",
       "      <td>1.612661</td>\n",
       "      <td>0.138308</td>\n",
       "      <td>-0.188264</td>\n",
       "      <td>1.527412</td>\n",
       "      <td>1</td>\n",
       "      <td>0.620502</td>\n",
       "      <td>...</td>\n",
       "      <td>0.0</td>\n",
       "      <td>0</td>\n",
       "      <td>0</td>\n",
       "      <td>0</td>\n",
       "      <td>1</td>\n",
       "      <td>0</td>\n",
       "      <td>0</td>\n",
       "      <td>0</td>\n",
       "      <td>0</td>\n",
       "      <td>0</td>\n",
       "    </tr>\n",
       "  </tbody>\n",
       "</table>\n",
       "<p>5 rows × 77 columns</p>\n",
       "</div>"
      ],
      "text/plain": [
       "          H&M  miniso$名创优品     餐饮$吃喝        超市        服装        家居        酒店  \\\n",
       "行标签                                                                            \n",
       "NM000283    0            0  0.951932 -0.387128 -0.484610 -0.173002  0.887324   \n",
       "NM000276    0            1  0.951932 -0.633821  1.462856 -0.069232 -0.068754   \n",
       "NM000373    1            1  0.951932  1.093025  4.324133  7.609750  1.006833   \n",
       "NM000245    0            0 -0.638697 -0.387128 -0.724299  0.190193  0.170265   \n",
       "NM000049    1            1  0.951932  0.106256  1.612661  0.138308 -0.188264   \n",
       "\n",
       "                美容  屈臣氏     商场$购物   ...     开业月份_12月  开业月份_1月  开业月份_2月  \\\n",
       "行标签                                 ...                                  \n",
       "NM000283  0.054061    0  0.676819   ...          0.0        0        0   \n",
       "NM000276  0.321943    0  0.676819   ...          0.0        0        0   \n",
       "NM000373  1.661353    1  0.789452   ...          0.0        0        0   \n",
       "NM000245 -0.615645    0 -0.731100   ...          0.0        0        0   \n",
       "NM000049  1.527412    1  0.620502   ...          0.0        0        0   \n",
       "\n",
       "          开业月份_3月  开业月份_4月  开业月份_5月  开业月份_6月  开业月份_7月  开业月份_8月  开业月份_9月  \n",
       "行标签                                                                      \n",
       "NM000283        0        0        0        0        0        0        0  \n",
       "NM000276        0        0        0        0        0        0        1  \n",
       "NM000373        0        0        0        0        0        0        0  \n",
       "NM000245        0        0        0        0        0        0        0  \n",
       "NM000049        0        1        0        0        0        0        0  \n",
       "\n",
       "[5 rows x 77 columns]"
      ]
     },
     "execution_count": 8,
     "metadata": {},
     "output_type": "execute_result"
    }
   ],
   "source": [
    "pro_df.head()"
   ]
  },
  {
   "cell_type": "markdown",
   "metadata": {},
   "source": [
    "# 数据集的分离\n",
    "* 先将数据集分为训练和测试集（9：1），用random_state参数控制随机再现【0，10】\n",
    "* 再将训练集进行交叉验证\n",
    "* 原始分离的结果是X,Y；处理数据的分离为x,y"
   ]
  },
  {
   "cell_type": "code",
   "execution_count": 7,
   "metadata": {
    "ExecuteTime": {
     "end_time": "2019-01-08T08:25:57.244157Z",
     "start_time": "2019-01-08T08:25:57.213137Z"
    }
   },
   "outputs": [],
   "source": [
    "from sklearn.model_selection import train_test_split\n",
    "from sklearn.model_selection import KFold"
   ]
  },
  {
   "cell_type": "markdown",
   "metadata": {},
   "source": [
    "## 原始数据的分离"
   ]
  },
  {
   "cell_type": "code",
   "execution_count": 8,
   "metadata": {
    "ExecuteTime": {
     "end_time": "2019-01-08T08:25:58.716646Z",
     "start_time": "2019-01-08T08:25:58.709631Z"
    }
   },
   "outputs": [],
   "source": [
    "#X与Y的分离\n",
    "Y1=df['日均销售额']\n",
    "Y2=df['预计平均日销']\n",
    "X=df.drop(columns=['日均销售额','预计平均日销'])\n",
    "\n",
    "#训练与测试集的分离\n",
    "X_train, X_test, Y_train, Y_test=train_test_split(X,Y1,test_size=0.1,random_state=10)"
   ]
  },
  {
   "cell_type": "markdown",
   "metadata": {},
   "source": [
    "## 标准数据的分离"
   ]
  },
  {
   "cell_type": "code",
   "execution_count": 11,
   "metadata": {
    "ExecuteTime": {
     "end_time": "2019-01-08T01:26:25.124631Z",
     "start_time": "2019-01-08T01:26:25.117639Z"
    }
   },
   "outputs": [],
   "source": [
    "#x与y的分离\n",
    "y1=pro_df['日均销售额']\n",
    "x=pro_df.drop(columns=['日均销售额','预计平均日销'])\n",
    "\n",
    "#训练与测试集的分离\n",
    "x_train, x_test, y_train, y_test=train_test_split(x,y1,test_size=0.1,random_state=10)"
   ]
  },
  {
   "cell_type": "markdown",
   "metadata": {},
   "source": [
    "## 交叉验证\n",
    "* 十折交叉验证，同样由random_state来控制随机"
   ]
  },
  {
   "cell_type": "code",
   "execution_count": 12,
   "metadata": {
    "ExecuteTime": {
     "end_time": "2019-01-08T01:26:29.241039Z",
     "start_time": "2019-01-08T01:26:29.238052Z"
    }
   },
   "outputs": [],
   "source": [
    "#交叉验证\n",
    "kf=KFold(10,random_state=77)"
   ]
  },
  {
   "cell_type": "markdown",
   "metadata": {
    "heading_collapsed": true
   },
   "source": [
    "# 模型评判效果采用绝对误差率\n",
    "$\\frac{|真实值-预测值|}{ 真实值}$"
   ]
  },
  {
   "cell_type": "markdown",
   "metadata": {},
   "source": [
    "# 线性回归"
   ]
  },
  {
   "cell_type": "code",
   "execution_count": 13,
   "metadata": {
    "ExecuteTime": {
     "end_time": "2019-01-08T01:26:33.290057Z",
     "start_time": "2019-01-08T01:26:33.167986Z"
    }
   },
   "outputs": [],
   "source": [
    "#众线性回归模型\n",
    "from sklearn.linear_model import LinearRegression,LassoCV,RidgeCV"
   ]
  },
  {
   "cell_type": "markdown",
   "metadata": {},
   "source": [
    "## LinearRegression（无正则惩罚和交叉验证）\n",
    "### 原始数据"
   ]
  },
  {
   "cell_type": "code",
   "execution_count": 69,
   "metadata": {
    "ExecuteTime": {
     "end_time": "2019-01-03T06:29:50.276878Z",
     "start_time": "2019-01-03T06:29:50.201340Z"
    }
   },
   "outputs": [],
   "source": [
    "error=[]\n",
    "weight=[]\n",
    "for k in range(11):\n",
    "    X_train, X_test, Y_train, Y_test=train_test_split(X,Y1,test_size=0.1,random_state=k)\n",
    "    #LinearRegression\n",
    "    linear=LinearRegression(n_jobs=-1)\n",
    "    #原始数据训练\n",
    "    linear.fit(X_train.values,Y_train.values)\n",
    "    predict=linear.predict(X_test.values)\n",
    "    #error变量拿到每一次的绝对误差率\n",
    "    error.append(np.mean(np.abs(predict-Y_test.values)/Y_test.values))\n",
    "    dic={}\n",
    "    for i,j in zip(X_train.columns,linear.coef_):\n",
    "        dic[i]=j\n",
    "    #weight拿到每一次的特征权重\n",
    "    weight.append(dic)\n",
    "#feature_weight是每个特征每次的权重\n",
    "feature_weight={}\n",
    "for j in weight[0].keys():\n",
    "    a=[]\n",
    "    for i in weight:\n",
    "        a.append(i[j])\n",
    "    feature_weight[j]=a"
   ]
  },
  {
   "cell_type": "markdown",
   "metadata": {},
   "source": [
    "### 标准数据的带入"
   ]
  },
  {
   "cell_type": "code",
   "execution_count": 70,
   "metadata": {
    "ExecuteTime": {
     "end_time": "2019-01-03T06:29:52.091676Z",
     "start_time": "2019-01-03T06:29:52.033135Z"
    }
   },
   "outputs": [],
   "source": [
    "error1=[]\n",
    "weight1=[]\n",
    "for k in range(11):\n",
    "    x_train, x_test, y_train, y_test=train_test_split(x,y1,test_size=0.1,random_state=k)\n",
    "    #LinearRegression\n",
    "    linear=LinearRegression(n_jobs=-1)\n",
    "    #原始数据训练\n",
    "    linear.fit(x_train.values,y_train.values)\n",
    "    predict=linear.predict(x_test.values)\n",
    "    #error变量拿到每一次的绝对误差率\n",
    "    error1.append(np.mean(np.abs(predict*9459.408985-y_test.values*9459.408985)/(y_test.values*9459.408985+16508.77023)))\n",
    "    dic={}\n",
    "    for i,j in zip(x_train.columns,linear.coef_):\n",
    "        dic[i]=j\n",
    "    #weight拿到每一次的特征权重\n",
    "    weight1.append(dic)\n",
    "#feature_weight是每个特征每次的权重\n",
    "feature_weight1={}\n",
    "for j in weight1[0].keys():\n",
    "    a=[]\n",
    "    for i in weight1:\n",
    "        a.append(i[j])\n",
    "    feature_weight1[j]=a"
   ]
  },
  {
   "cell_type": "code",
   "execution_count": 71,
   "metadata": {
    "ExecuteTime": {
     "end_time": "2019-01-03T06:29:54.762059Z",
     "start_time": "2019-01-03T06:29:54.752052Z"
    }
   },
   "outputs": [],
   "source": [
    "x_train, x_test, y_train, y_test=train_test_split(x,y1,test_size=0.1,random_state=8)\n",
    "linear=LinearRegression(n_jobs=-1)\n",
    "linear.fit(x_train.values,y_train.values)\n",
    "predict=linear.predict(x_test.values)\n",
    "predict\n",
    "for i,j in zip(x_train.columns,linear.coef_):\n",
    "    dic[i]=j\n",
    "#weight拿到每一次的特征权重\n",
    "weight1.append(dic)"
   ]
  },
  {
   "cell_type": "markdown",
   "metadata": {},
   "source": [
    "### LinearRegression评估"
   ]
  },
  {
   "cell_type": "code",
   "execution_count": 72,
   "metadata": {
    "ExecuteTime": {
     "end_time": "2019-01-03T06:33:23.930250Z",
     "start_time": "2019-01-03T06:33:23.891721Z"
    }
   },
   "outputs": [
    {
     "data": {
      "text/html": [
       "<div>\n",
       "<style scoped>\n",
       "    .dataframe tbody tr th:only-of-type {\n",
       "        vertical-align: middle;\n",
       "    }\n",
       "\n",
       "    .dataframe tbody tr th {\n",
       "        vertical-align: top;\n",
       "    }\n",
       "\n",
       "    .dataframe thead th {\n",
       "        text-align: right;\n",
       "    }\n",
       "</style>\n",
       "<table border=\"1\" class=\"dataframe\">\n",
       "  <thead>\n",
       "    <tr style=\"text-align: right;\">\n",
       "      <th></th>\n",
       "      <th>H&amp;M</th>\n",
       "      <th>miniso$名创优品</th>\n",
       "      <th>餐饮$吃喝</th>\n",
       "      <th>超市</th>\n",
       "      <th>服装</th>\n",
       "      <th>家居</th>\n",
       "      <th>酒店</th>\n",
       "      <th>美容</th>\n",
       "      <th>屈臣氏</th>\n",
       "      <th>商场$购物</th>\n",
       "      <th>...</th>\n",
       "      <th>店铺类型_2</th>\n",
       "      <th>店铺类型_3</th>\n",
       "      <th>店铺类型_4</th>\n",
       "      <th>地区_1</th>\n",
       "      <th>地区_2</th>\n",
       "      <th>地区_3</th>\n",
       "      <th>地区_4</th>\n",
       "      <th>地区_5</th>\n",
       "      <th>地区_6</th>\n",
       "      <th>地区_7</th>\n",
       "    </tr>\n",
       "  </thead>\n",
       "  <tbody>\n",
       "    <tr>\n",
       "      <th>0</th>\n",
       "      <td>-0.046477</td>\n",
       "      <td>0.044145</td>\n",
       "      <td>0.067827</td>\n",
       "      <td>0.032770</td>\n",
       "      <td>0.154648</td>\n",
       "      <td>0.045617</td>\n",
       "      <td>0.095880</td>\n",
       "      <td>-0.094986</td>\n",
       "      <td>-0.105319</td>\n",
       "      <td>-0.150766</td>\n",
       "      <td>...</td>\n",
       "      <td>-9.825459e+10</td>\n",
       "      <td>-9.825459e+10</td>\n",
       "      <td>-9.825459e+10</td>\n",
       "      <td>-7.615315e+11</td>\n",
       "      <td>-7.615315e+11</td>\n",
       "      <td>-7.615315e+11</td>\n",
       "      <td>-7.615315e+11</td>\n",
       "      <td>-7.615315e+11</td>\n",
       "      <td>-7.615315e+11</td>\n",
       "      <td>-7.615315e+11</td>\n",
       "    </tr>\n",
       "    <tr>\n",
       "      <th>1</th>\n",
       "      <td>-0.024818</td>\n",
       "      <td>0.040008</td>\n",
       "      <td>0.020218</td>\n",
       "      <td>0.006744</td>\n",
       "      <td>-0.016656</td>\n",
       "      <td>0.032713</td>\n",
       "      <td>0.098792</td>\n",
       "      <td>-0.027664</td>\n",
       "      <td>-0.100245</td>\n",
       "      <td>-0.119189</td>\n",
       "      <td>...</td>\n",
       "      <td>-3.449915e+11</td>\n",
       "      <td>-3.449915e+11</td>\n",
       "      <td>-3.449915e+11</td>\n",
       "      <td>5.462142e+12</td>\n",
       "      <td>5.462142e+12</td>\n",
       "      <td>5.462142e+12</td>\n",
       "      <td>5.462142e+12</td>\n",
       "      <td>5.462142e+12</td>\n",
       "      <td>5.462142e+12</td>\n",
       "      <td>5.462142e+12</td>\n",
       "    </tr>\n",
       "    <tr>\n",
       "      <th>2</th>\n",
       "      <td>-0.030831</td>\n",
       "      <td>0.068529</td>\n",
       "      <td>0.059288</td>\n",
       "      <td>0.067979</td>\n",
       "      <td>0.080836</td>\n",
       "      <td>0.053820</td>\n",
       "      <td>0.087795</td>\n",
       "      <td>-0.096558</td>\n",
       "      <td>-0.092637</td>\n",
       "      <td>-0.135388</td>\n",
       "      <td>...</td>\n",
       "      <td>2.994419e+11</td>\n",
       "      <td>2.994419e+11</td>\n",
       "      <td>2.994419e+11</td>\n",
       "      <td>-2.573876e+11</td>\n",
       "      <td>-2.573876e+11</td>\n",
       "      <td>-2.573876e+11</td>\n",
       "      <td>-2.573876e+11</td>\n",
       "      <td>-2.573876e+11</td>\n",
       "      <td>-2.573876e+11</td>\n",
       "      <td>-2.573876e+11</td>\n",
       "    </tr>\n",
       "    <tr>\n",
       "      <th>3</th>\n",
       "      <td>-0.102013</td>\n",
       "      <td>0.021125</td>\n",
       "      <td>0.122433</td>\n",
       "      <td>-0.002902</td>\n",
       "      <td>0.103425</td>\n",
       "      <td>0.041397</td>\n",
       "      <td>0.082916</td>\n",
       "      <td>-0.059516</td>\n",
       "      <td>-0.075817</td>\n",
       "      <td>-0.153465</td>\n",
       "      <td>...</td>\n",
       "      <td>7.719894e+10</td>\n",
       "      <td>7.719894e+10</td>\n",
       "      <td>7.719894e+10</td>\n",
       "      <td>-4.083871e+11</td>\n",
       "      <td>-4.083871e+11</td>\n",
       "      <td>-4.083871e+11</td>\n",
       "      <td>-4.083871e+11</td>\n",
       "      <td>-4.083871e+11</td>\n",
       "      <td>-4.083871e+11</td>\n",
       "      <td>-4.083871e+11</td>\n",
       "    </tr>\n",
       "    <tr>\n",
       "      <th>4</th>\n",
       "      <td>-0.055672</td>\n",
       "      <td>0.040871</td>\n",
       "      <td>0.021657</td>\n",
       "      <td>0.020254</td>\n",
       "      <td>0.080088</td>\n",
       "      <td>0.022973</td>\n",
       "      <td>0.099748</td>\n",
       "      <td>-0.092678</td>\n",
       "      <td>-0.073427</td>\n",
       "      <td>-0.125466</td>\n",
       "      <td>...</td>\n",
       "      <td>4.877127e+11</td>\n",
       "      <td>4.877127e+11</td>\n",
       "      <td>4.877127e+11</td>\n",
       "      <td>6.660100e+11</td>\n",
       "      <td>6.660100e+11</td>\n",
       "      <td>6.660100e+11</td>\n",
       "      <td>6.660100e+11</td>\n",
       "      <td>6.660100e+11</td>\n",
       "      <td>6.660100e+11</td>\n",
       "      <td>6.660100e+11</td>\n",
       "    </tr>\n",
       "    <tr>\n",
       "      <th>5</th>\n",
       "      <td>-0.034305</td>\n",
       "      <td>0.032533</td>\n",
       "      <td>0.065303</td>\n",
       "      <td>0.034986</td>\n",
       "      <td>0.110009</td>\n",
       "      <td>0.056321</td>\n",
       "      <td>0.086949</td>\n",
       "      <td>-0.126931</td>\n",
       "      <td>-0.068568</td>\n",
       "      <td>-0.119162</td>\n",
       "      <td>...</td>\n",
       "      <td>1.705984e+12</td>\n",
       "      <td>1.705984e+12</td>\n",
       "      <td>1.705984e+12</td>\n",
       "      <td>4.406421e+11</td>\n",
       "      <td>4.406421e+11</td>\n",
       "      <td>4.406421e+11</td>\n",
       "      <td>4.406421e+11</td>\n",
       "      <td>4.406421e+11</td>\n",
       "      <td>4.406421e+11</td>\n",
       "      <td>4.406421e+11</td>\n",
       "    </tr>\n",
       "    <tr>\n",
       "      <th>6</th>\n",
       "      <td>-0.034637</td>\n",
       "      <td>-0.023224</td>\n",
       "      <td>0.023095</td>\n",
       "      <td>-0.008006</td>\n",
       "      <td>-0.038144</td>\n",
       "      <td>0.004711</td>\n",
       "      <td>-0.009912</td>\n",
       "      <td>0.125852</td>\n",
       "      <td>-0.113653</td>\n",
       "      <td>-0.040468</td>\n",
       "      <td>...</td>\n",
       "      <td>1.770940e+12</td>\n",
       "      <td>1.770940e+12</td>\n",
       "      <td>1.770940e+12</td>\n",
       "      <td>1.382264e+12</td>\n",
       "      <td>1.382264e+12</td>\n",
       "      <td>1.382264e+12</td>\n",
       "      <td>1.382264e+12</td>\n",
       "      <td>1.382264e+12</td>\n",
       "      <td>1.382264e+12</td>\n",
       "      <td>1.382264e+12</td>\n",
       "    </tr>\n",
       "    <tr>\n",
       "      <th>7</th>\n",
       "      <td>-0.030665</td>\n",
       "      <td>-0.015425</td>\n",
       "      <td>-0.004257</td>\n",
       "      <td>0.142777</td>\n",
       "      <td>0.026811</td>\n",
       "      <td>0.030907</td>\n",
       "      <td>0.013674</td>\n",
       "      <td>-0.004274</td>\n",
       "      <td>-0.123531</td>\n",
       "      <td>-0.120143</td>\n",
       "      <td>...</td>\n",
       "      <td>6.556522e+11</td>\n",
       "      <td>6.556522e+11</td>\n",
       "      <td>6.556522e+11</td>\n",
       "      <td>-2.941208e+12</td>\n",
       "      <td>-2.941208e+12</td>\n",
       "      <td>-2.941208e+12</td>\n",
       "      <td>-2.941208e+12</td>\n",
       "      <td>-2.941208e+12</td>\n",
       "      <td>-2.941208e+12</td>\n",
       "      <td>-2.941208e+12</td>\n",
       "    </tr>\n",
       "    <tr>\n",
       "      <th>8</th>\n",
       "      <td>-0.030636</td>\n",
       "      <td>0.007271</td>\n",
       "      <td>0.051383</td>\n",
       "      <td>0.055225</td>\n",
       "      <td>0.089139</td>\n",
       "      <td>0.057955</td>\n",
       "      <td>0.078425</td>\n",
       "      <td>-0.082276</td>\n",
       "      <td>-0.108311</td>\n",
       "      <td>-0.104506</td>\n",
       "      <td>...</td>\n",
       "      <td>7.929346e+11</td>\n",
       "      <td>7.929346e+11</td>\n",
       "      <td>7.929346e+11</td>\n",
       "      <td>-3.354175e+11</td>\n",
       "      <td>-3.354175e+11</td>\n",
       "      <td>-3.354175e+11</td>\n",
       "      <td>-3.354175e+11</td>\n",
       "      <td>-3.354175e+11</td>\n",
       "      <td>-3.354175e+11</td>\n",
       "      <td>-3.354175e+11</td>\n",
       "    </tr>\n",
       "    <tr>\n",
       "      <th>9</th>\n",
       "      <td>-0.059445</td>\n",
       "      <td>0.000226</td>\n",
       "      <td>0.034714</td>\n",
       "      <td>-0.031836</td>\n",
       "      <td>0.096078</td>\n",
       "      <td>0.037053</td>\n",
       "      <td>0.083577</td>\n",
       "      <td>-0.046800</td>\n",
       "      <td>-0.090763</td>\n",
       "      <td>-0.083141</td>\n",
       "      <td>...</td>\n",
       "      <td>9.843804e+11</td>\n",
       "      <td>9.843804e+11</td>\n",
       "      <td>9.843804e+11</td>\n",
       "      <td>-7.879387e+11</td>\n",
       "      <td>-7.879387e+11</td>\n",
       "      <td>-7.879387e+11</td>\n",
       "      <td>-7.879387e+11</td>\n",
       "      <td>-7.879387e+11</td>\n",
       "      <td>-7.879387e+11</td>\n",
       "      <td>-7.879387e+11</td>\n",
       "    </tr>\n",
       "    <tr>\n",
       "      <th>10</th>\n",
       "      <td>-0.033001</td>\n",
       "      <td>0.079986</td>\n",
       "      <td>0.053515</td>\n",
       "      <td>-0.039503</td>\n",
       "      <td>0.075363</td>\n",
       "      <td>0.063602</td>\n",
       "      <td>0.128035</td>\n",
       "      <td>-0.013768</td>\n",
       "      <td>-0.121164</td>\n",
       "      <td>-0.178076</td>\n",
       "      <td>...</td>\n",
       "      <td>4.054338e+12</td>\n",
       "      <td>4.054338e+12</td>\n",
       "      <td>4.054338e+12</td>\n",
       "      <td>-1.264159e+11</td>\n",
       "      <td>-1.264159e+11</td>\n",
       "      <td>-1.264159e+11</td>\n",
       "      <td>-1.264159e+11</td>\n",
       "      <td>-1.264159e+11</td>\n",
       "      <td>-1.264159e+11</td>\n",
       "      <td>-1.264159e+11</td>\n",
       "    </tr>\n",
       "  </tbody>\n",
       "</table>\n",
       "<p>11 rows × 66 columns</p>\n",
       "</div>"
      ],
      "text/plain": [
       "         H&M  miniso$名创优品     餐饮$吃喝        超市        服装        家居        酒店  \\\n",
       "0  -0.046477     0.044145  0.067827  0.032770  0.154648  0.045617  0.095880   \n",
       "1  -0.024818     0.040008  0.020218  0.006744 -0.016656  0.032713  0.098792   \n",
       "2  -0.030831     0.068529  0.059288  0.067979  0.080836  0.053820  0.087795   \n",
       "3  -0.102013     0.021125  0.122433 -0.002902  0.103425  0.041397  0.082916   \n",
       "4  -0.055672     0.040871  0.021657  0.020254  0.080088  0.022973  0.099748   \n",
       "5  -0.034305     0.032533  0.065303  0.034986  0.110009  0.056321  0.086949   \n",
       "6  -0.034637    -0.023224  0.023095 -0.008006 -0.038144  0.004711 -0.009912   \n",
       "7  -0.030665    -0.015425 -0.004257  0.142777  0.026811  0.030907  0.013674   \n",
       "8  -0.030636     0.007271  0.051383  0.055225  0.089139  0.057955  0.078425   \n",
       "9  -0.059445     0.000226  0.034714 -0.031836  0.096078  0.037053  0.083577   \n",
       "10 -0.033001     0.079986  0.053515 -0.039503  0.075363  0.063602  0.128035   \n",
       "\n",
       "          美容       屈臣氏     商场$购物      ...             店铺类型_2        店铺类型_3  \\\n",
       "0  -0.094986 -0.105319 -0.150766      ...      -9.825459e+10 -9.825459e+10   \n",
       "1  -0.027664 -0.100245 -0.119189      ...      -3.449915e+11 -3.449915e+11   \n",
       "2  -0.096558 -0.092637 -0.135388      ...       2.994419e+11  2.994419e+11   \n",
       "3  -0.059516 -0.075817 -0.153465      ...       7.719894e+10  7.719894e+10   \n",
       "4  -0.092678 -0.073427 -0.125466      ...       4.877127e+11  4.877127e+11   \n",
       "5  -0.126931 -0.068568 -0.119162      ...       1.705984e+12  1.705984e+12   \n",
       "6   0.125852 -0.113653 -0.040468      ...       1.770940e+12  1.770940e+12   \n",
       "7  -0.004274 -0.123531 -0.120143      ...       6.556522e+11  6.556522e+11   \n",
       "8  -0.082276 -0.108311 -0.104506      ...       7.929346e+11  7.929346e+11   \n",
       "9  -0.046800 -0.090763 -0.083141      ...       9.843804e+11  9.843804e+11   \n",
       "10 -0.013768 -0.121164 -0.178076      ...       4.054338e+12  4.054338e+12   \n",
       "\n",
       "          店铺类型_4          地区_1          地区_2          地区_3          地区_4  \\\n",
       "0  -9.825459e+10 -7.615315e+11 -7.615315e+11 -7.615315e+11 -7.615315e+11   \n",
       "1  -3.449915e+11  5.462142e+12  5.462142e+12  5.462142e+12  5.462142e+12   \n",
       "2   2.994419e+11 -2.573876e+11 -2.573876e+11 -2.573876e+11 -2.573876e+11   \n",
       "3   7.719894e+10 -4.083871e+11 -4.083871e+11 -4.083871e+11 -4.083871e+11   \n",
       "4   4.877127e+11  6.660100e+11  6.660100e+11  6.660100e+11  6.660100e+11   \n",
       "5   1.705984e+12  4.406421e+11  4.406421e+11  4.406421e+11  4.406421e+11   \n",
       "6   1.770940e+12  1.382264e+12  1.382264e+12  1.382264e+12  1.382264e+12   \n",
       "7   6.556522e+11 -2.941208e+12 -2.941208e+12 -2.941208e+12 -2.941208e+12   \n",
       "8   7.929346e+11 -3.354175e+11 -3.354175e+11 -3.354175e+11 -3.354175e+11   \n",
       "9   9.843804e+11 -7.879387e+11 -7.879387e+11 -7.879387e+11 -7.879387e+11   \n",
       "10  4.054338e+12 -1.264159e+11 -1.264159e+11 -1.264159e+11 -1.264159e+11   \n",
       "\n",
       "            地区_5          地区_6          地区_7  \n",
       "0  -7.615315e+11 -7.615315e+11 -7.615315e+11  \n",
       "1   5.462142e+12  5.462142e+12  5.462142e+12  \n",
       "2  -2.573876e+11 -2.573876e+11 -2.573876e+11  \n",
       "3  -4.083871e+11 -4.083871e+11 -4.083871e+11  \n",
       "4   6.660100e+11  6.660100e+11  6.660100e+11  \n",
       "5   4.406421e+11  4.406421e+11  4.406421e+11  \n",
       "6   1.382264e+12  1.382264e+12  1.382264e+12  \n",
       "7  -2.941208e+12 -2.941208e+12 -2.941208e+12  \n",
       "8  -3.354175e+11 -3.354175e+11 -3.354175e+11  \n",
       "9  -7.879387e+11 -7.879387e+11 -7.879387e+11  \n",
       "10 -1.264159e+11 -1.264159e+11 -1.264159e+11  \n",
       "\n",
       "[11 rows x 66 columns]"
      ]
     },
     "execution_count": 72,
     "metadata": {},
     "output_type": "execute_result"
    }
   ],
   "source": [
    "pd.DataFrame(feature_weight1)"
   ]
  },
  {
   "cell_type": "code",
   "execution_count": 73,
   "metadata": {
    "ExecuteTime": {
     "end_time": "2019-01-03T06:33:33.515001Z",
     "start_time": "2019-01-03T06:33:33.483978Z"
    }
   },
   "outputs": [
    {
     "data": {
      "text/html": [
       "<div>\n",
       "<style scoped>\n",
       "    .dataframe tbody tr th:only-of-type {\n",
       "        vertical-align: middle;\n",
       "    }\n",
       "\n",
       "    .dataframe tbody tr th {\n",
       "        vertical-align: top;\n",
       "    }\n",
       "\n",
       "    .dataframe thead th {\n",
       "        text-align: right;\n",
       "    }\n",
       "</style>\n",
       "<table border=\"1\" class=\"dataframe\">\n",
       "  <thead>\n",
       "    <tr style=\"text-align: right;\">\n",
       "      <th></th>\n",
       "      <th>H&amp;M</th>\n",
       "      <th>miniso$名创优品</th>\n",
       "      <th>餐饮$吃喝</th>\n",
       "      <th>超市</th>\n",
       "      <th>服装</th>\n",
       "      <th>家居</th>\n",
       "      <th>酒店</th>\n",
       "      <th>美容</th>\n",
       "      <th>屈臣氏</th>\n",
       "      <th>商场$购物</th>\n",
       "      <th>...</th>\n",
       "      <th>地铁50-150</th>\n",
       "      <th>地铁150-500</th>\n",
       "      <th>地铁500以上</th>\n",
       "      <th>离入口/楼梯口距离</th>\n",
       "      <th>经营性质</th>\n",
       "      <th>店铺类型</th>\n",
       "      <th>地区</th>\n",
       "      <th>开业时间30天内</th>\n",
       "      <th>30-60天</th>\n",
       "      <th>开业时间大于60</th>\n",
       "    </tr>\n",
       "  </thead>\n",
       "  <tbody>\n",
       "    <tr>\n",
       "      <th>0</th>\n",
       "      <td>-129.723823</td>\n",
       "      <td>1599.914781</td>\n",
       "      <td>19.404333</td>\n",
       "      <td>118.966716</td>\n",
       "      <td>8.145571</td>\n",
       "      <td>14.520588</td>\n",
       "      <td>57.121995</td>\n",
       "      <td>2.220363</td>\n",
       "      <td>-1831.235677</td>\n",
       "      <td>-47.033115</td>\n",
       "      <td>...</td>\n",
       "      <td>2934.483293</td>\n",
       "      <td>1239.556968</td>\n",
       "      <td>-2521.774348</td>\n",
       "      <td>-16.806969</td>\n",
       "      <td>-2869.576011</td>\n",
       "      <td>818.015998</td>\n",
       "      <td>-360.715647</td>\n",
       "      <td>-11235.676580</td>\n",
       "      <td>-18935.664849</td>\n",
       "      <td>-15519.818610</td>\n",
       "    </tr>\n",
       "    <tr>\n",
       "      <th>1</th>\n",
       "      <td>-50.832478</td>\n",
       "      <td>1170.031307</td>\n",
       "      <td>22.714478</td>\n",
       "      <td>144.447856</td>\n",
       "      <td>-4.030565</td>\n",
       "      <td>8.432629</td>\n",
       "      <td>63.163161</td>\n",
       "      <td>-23.539965</td>\n",
       "      <td>-1751.174865</td>\n",
       "      <td>-53.771912</td>\n",
       "      <td>...</td>\n",
       "      <td>892.021025</td>\n",
       "      <td>785.552432</td>\n",
       "      <td>-89.736323</td>\n",
       "      <td>-13.310333</td>\n",
       "      <td>-2302.696171</td>\n",
       "      <td>725.975480</td>\n",
       "      <td>-180.617434</td>\n",
       "      <td>-15317.966190</td>\n",
       "      <td>-22913.787717</td>\n",
       "      <td>-19338.356234</td>\n",
       "    </tr>\n",
       "    <tr>\n",
       "      <th>2</th>\n",
       "      <td>-69.063272</td>\n",
       "      <td>1868.934870</td>\n",
       "      <td>24.507271</td>\n",
       "      <td>279.247386</td>\n",
       "      <td>8.667897</td>\n",
       "      <td>14.886294</td>\n",
       "      <td>56.020469</td>\n",
       "      <td>-60.195263</td>\n",
       "      <td>-1901.870119</td>\n",
       "      <td>-54.135000</td>\n",
       "      <td>...</td>\n",
       "      <td>1357.709130</td>\n",
       "      <td>2899.940756</td>\n",
       "      <td>-2889.600107</td>\n",
       "      <td>-20.964627</td>\n",
       "      <td>-2164.969181</td>\n",
       "      <td>356.372143</td>\n",
       "      <td>-264.502665</td>\n",
       "      <td>-13003.013285</td>\n",
       "      <td>-21742.743886</td>\n",
       "      <td>-17829.303713</td>\n",
       "    </tr>\n",
       "    <tr>\n",
       "      <th>3</th>\n",
       "      <td>-463.498033</td>\n",
       "      <td>1329.111169</td>\n",
       "      <td>32.490215</td>\n",
       "      <td>66.048051</td>\n",
       "      <td>3.354516</td>\n",
       "      <td>11.692561</td>\n",
       "      <td>35.448302</td>\n",
       "      <td>-5.262681</td>\n",
       "      <td>-1461.624825</td>\n",
       "      <td>-38.686181</td>\n",
       "      <td>...</td>\n",
       "      <td>1738.007609</td>\n",
       "      <td>1098.874675</td>\n",
       "      <td>-1204.060365</td>\n",
       "      <td>-12.237329</td>\n",
       "      <td>-1998.230961</td>\n",
       "      <td>1038.450544</td>\n",
       "      <td>-335.234015</td>\n",
       "      <td>3547.206747</td>\n",
       "      <td>-3195.911446</td>\n",
       "      <td>-351.295301</td>\n",
       "    </tr>\n",
       "    <tr>\n",
       "      <th>4</th>\n",
       "      <td>-129.058876</td>\n",
       "      <td>1487.702749</td>\n",
       "      <td>-0.680185</td>\n",
       "      <td>141.817325</td>\n",
       "      <td>1.796426</td>\n",
       "      <td>4.851563</td>\n",
       "      <td>72.862290</td>\n",
       "      <td>-16.529378</td>\n",
       "      <td>-1411.862545</td>\n",
       "      <td>-38.429345</td>\n",
       "      <td>...</td>\n",
       "      <td>331.294650</td>\n",
       "      <td>1647.874973</td>\n",
       "      <td>-1438.295836</td>\n",
       "      <td>-14.339773</td>\n",
       "      <td>-655.632504</td>\n",
       "      <td>710.606919</td>\n",
       "      <td>-122.604031</td>\n",
       "      <td>-12464.952997</td>\n",
       "      <td>-18896.408076</td>\n",
       "      <td>-16447.466599</td>\n",
       "    </tr>\n",
       "    <tr>\n",
       "      <th>5</th>\n",
       "      <td>-116.656602</td>\n",
       "      <td>1502.454948</td>\n",
       "      <td>8.978029</td>\n",
       "      <td>115.675879</td>\n",
       "      <td>3.021376</td>\n",
       "      <td>12.111495</td>\n",
       "      <td>67.395744</td>\n",
       "      <td>-50.194483</td>\n",
       "      <td>-1487.411748</td>\n",
       "      <td>-18.412801</td>\n",
       "      <td>...</td>\n",
       "      <td>1451.485069</td>\n",
       "      <td>1706.833123</td>\n",
       "      <td>-1237.622360</td>\n",
       "      <td>-13.007482</td>\n",
       "      <td>-1764.400006</td>\n",
       "      <td>725.781429</td>\n",
       "      <td>-104.754318</td>\n",
       "      <td>-13734.372779</td>\n",
       "      <td>-21166.923085</td>\n",
       "      <td>-17480.582031</td>\n",
       "    </tr>\n",
       "    <tr>\n",
       "      <th>6</th>\n",
       "      <td>-71.026019</td>\n",
       "      <td>889.201138</td>\n",
       "      <td>10.548585</td>\n",
       "      <td>198.880815</td>\n",
       "      <td>-10.017594</td>\n",
       "      <td>16.102102</td>\n",
       "      <td>23.881021</td>\n",
       "      <td>67.021703</td>\n",
       "      <td>-1429.859191</td>\n",
       "      <td>-37.288946</td>\n",
       "      <td>...</td>\n",
       "      <td>1583.243773</td>\n",
       "      <td>-220.409008</td>\n",
       "      <td>-293.485960</td>\n",
       "      <td>-12.983690</td>\n",
       "      <td>-1784.821471</td>\n",
       "      <td>860.677249</td>\n",
       "      <td>-200.306445</td>\n",
       "      <td>4118.753368</td>\n",
       "      <td>-3457.681724</td>\n",
       "      <td>-661.071644</td>\n",
       "    </tr>\n",
       "    <tr>\n",
       "      <th>7</th>\n",
       "      <td>-34.634748</td>\n",
       "      <td>1115.970647</td>\n",
       "      <td>42.066385</td>\n",
       "      <td>-1.287554</td>\n",
       "      <td>-1.339478</td>\n",
       "      <td>15.036213</td>\n",
       "      <td>28.966725</td>\n",
       "      <td>-3.081369</td>\n",
       "      <td>-2182.978638</td>\n",
       "      <td>-35.652698</td>\n",
       "      <td>...</td>\n",
       "      <td>165.739813</td>\n",
       "      <td>1762.646237</td>\n",
       "      <td>-789.489826</td>\n",
       "      <td>-13.326802</td>\n",
       "      <td>-2718.296836</td>\n",
       "      <td>1147.092169</td>\n",
       "      <td>-209.368492</td>\n",
       "      <td>-17242.876054</td>\n",
       "      <td>-22166.078271</td>\n",
       "      <td>-19175.516660</td>\n",
       "    </tr>\n",
       "    <tr>\n",
       "      <th>8</th>\n",
       "      <td>-129.691346</td>\n",
       "      <td>667.082999</td>\n",
       "      <td>3.125748</td>\n",
       "      <td>271.440557</td>\n",
       "      <td>9.377247</td>\n",
       "      <td>16.768787</td>\n",
       "      <td>45.862182</td>\n",
       "      <td>-58.240994</td>\n",
       "      <td>-1694.732624</td>\n",
       "      <td>-29.778819</td>\n",
       "      <td>...</td>\n",
       "      <td>1390.317447</td>\n",
       "      <td>2886.836148</td>\n",
       "      <td>-2840.298677</td>\n",
       "      <td>-16.132404</td>\n",
       "      <td>-1739.393569</td>\n",
       "      <td>349.781014</td>\n",
       "      <td>-144.898467</td>\n",
       "      <td>-13424.850573</td>\n",
       "      <td>-20890.367688</td>\n",
       "      <td>-17491.803881</td>\n",
       "    </tr>\n",
       "    <tr>\n",
       "      <th>9</th>\n",
       "      <td>-232.207692</td>\n",
       "      <td>1048.928289</td>\n",
       "      <td>-5.313610</td>\n",
       "      <td>92.220203</td>\n",
       "      <td>0.628308</td>\n",
       "      <td>12.542962</td>\n",
       "      <td>59.069100</td>\n",
       "      <td>23.395483</td>\n",
       "      <td>-1366.294161</td>\n",
       "      <td>-26.659687</td>\n",
       "      <td>...</td>\n",
       "      <td>1969.953173</td>\n",
       "      <td>1382.230571</td>\n",
       "      <td>-967.633869</td>\n",
       "      <td>-13.052492</td>\n",
       "      <td>-1645.648181</td>\n",
       "      <td>659.844982</td>\n",
       "      <td>-172.926229</td>\n",
       "      <td>-11849.902266</td>\n",
       "      <td>-19625.589279</td>\n",
       "      <td>-16087.407155</td>\n",
       "    </tr>\n",
       "    <tr>\n",
       "      <th>10</th>\n",
       "      <td>-26.034897</td>\n",
       "      <td>1191.687979</td>\n",
       "      <td>14.791245</td>\n",
       "      <td>154.041167</td>\n",
       "      <td>5.837909</td>\n",
       "      <td>20.735210</td>\n",
       "      <td>38.143272</td>\n",
       "      <td>-29.637537</td>\n",
       "      <td>-1564.605245</td>\n",
       "      <td>-42.948425</td>\n",
       "      <td>...</td>\n",
       "      <td>1425.801059</td>\n",
       "      <td>2027.083070</td>\n",
       "      <td>-1521.761659</td>\n",
       "      <td>-12.599837</td>\n",
       "      <td>-2596.408048</td>\n",
       "      <td>1092.222025</td>\n",
       "      <td>-293.074320</td>\n",
       "      <td>-13784.151272</td>\n",
       "      <td>-20847.133589</td>\n",
       "      <td>-17506.511058</td>\n",
       "    </tr>\n",
       "  </tbody>\n",
       "</table>\n",
       "<p>11 rows × 37 columns</p>\n",
       "</div>"
      ],
      "text/plain": [
       "           H&M  miniso$名创优品      餐饮$吃喝          超市         服装         家居  \\\n",
       "0  -129.723823  1599.914781  19.404333  118.966716   8.145571  14.520588   \n",
       "1   -50.832478  1170.031307  22.714478  144.447856  -4.030565   8.432629   \n",
       "2   -69.063272  1868.934870  24.507271  279.247386   8.667897  14.886294   \n",
       "3  -463.498033  1329.111169  32.490215   66.048051   3.354516  11.692561   \n",
       "4  -129.058876  1487.702749  -0.680185  141.817325   1.796426   4.851563   \n",
       "5  -116.656602  1502.454948   8.978029  115.675879   3.021376  12.111495   \n",
       "6   -71.026019   889.201138  10.548585  198.880815 -10.017594  16.102102   \n",
       "7   -34.634748  1115.970647  42.066385   -1.287554  -1.339478  15.036213   \n",
       "8  -129.691346   667.082999   3.125748  271.440557   9.377247  16.768787   \n",
       "9  -232.207692  1048.928289  -5.313610   92.220203   0.628308  12.542962   \n",
       "10  -26.034897  1191.687979  14.791245  154.041167   5.837909  20.735210   \n",
       "\n",
       "           酒店         美容          屈臣氏      商场$购物      ...          地铁50-150  \\\n",
       "0   57.121995   2.220363 -1831.235677 -47.033115      ...       2934.483293   \n",
       "1   63.163161 -23.539965 -1751.174865 -53.771912      ...        892.021025   \n",
       "2   56.020469 -60.195263 -1901.870119 -54.135000      ...       1357.709130   \n",
       "3   35.448302  -5.262681 -1461.624825 -38.686181      ...       1738.007609   \n",
       "4   72.862290 -16.529378 -1411.862545 -38.429345      ...        331.294650   \n",
       "5   67.395744 -50.194483 -1487.411748 -18.412801      ...       1451.485069   \n",
       "6   23.881021  67.021703 -1429.859191 -37.288946      ...       1583.243773   \n",
       "7   28.966725  -3.081369 -2182.978638 -35.652698      ...        165.739813   \n",
       "8   45.862182 -58.240994 -1694.732624 -29.778819      ...       1390.317447   \n",
       "9   59.069100  23.395483 -1366.294161 -26.659687      ...       1969.953173   \n",
       "10  38.143272 -29.637537 -1564.605245 -42.948425      ...       1425.801059   \n",
       "\n",
       "      地铁150-500      地铁500以上  离入口/楼梯口距离         经营性质         店铺类型          地区  \\\n",
       "0   1239.556968 -2521.774348 -16.806969 -2869.576011   818.015998 -360.715647   \n",
       "1    785.552432   -89.736323 -13.310333 -2302.696171   725.975480 -180.617434   \n",
       "2   2899.940756 -2889.600107 -20.964627 -2164.969181   356.372143 -264.502665   \n",
       "3   1098.874675 -1204.060365 -12.237329 -1998.230961  1038.450544 -335.234015   \n",
       "4   1647.874973 -1438.295836 -14.339773  -655.632504   710.606919 -122.604031   \n",
       "5   1706.833123 -1237.622360 -13.007482 -1764.400006   725.781429 -104.754318   \n",
       "6   -220.409008  -293.485960 -12.983690 -1784.821471   860.677249 -200.306445   \n",
       "7   1762.646237  -789.489826 -13.326802 -2718.296836  1147.092169 -209.368492   \n",
       "8   2886.836148 -2840.298677 -16.132404 -1739.393569   349.781014 -144.898467   \n",
       "9   1382.230571  -967.633869 -13.052492 -1645.648181   659.844982 -172.926229   \n",
       "10  2027.083070 -1521.761659 -12.599837 -2596.408048  1092.222025 -293.074320   \n",
       "\n",
       "        开业时间30天内        30-60天      开业时间大于60  \n",
       "0  -11235.676580 -18935.664849 -15519.818610  \n",
       "1  -15317.966190 -22913.787717 -19338.356234  \n",
       "2  -13003.013285 -21742.743886 -17829.303713  \n",
       "3    3547.206747  -3195.911446   -351.295301  \n",
       "4  -12464.952997 -18896.408076 -16447.466599  \n",
       "5  -13734.372779 -21166.923085 -17480.582031  \n",
       "6    4118.753368  -3457.681724   -661.071644  \n",
       "7  -17242.876054 -22166.078271 -19175.516660  \n",
       "8  -13424.850573 -20890.367688 -17491.803881  \n",
       "9  -11849.902266 -19625.589279 -16087.407155  \n",
       "10 -13784.151272 -20847.133589 -17506.511058  \n",
       "\n",
       "[11 rows x 37 columns]"
      ]
     },
     "execution_count": 73,
     "metadata": {},
     "output_type": "execute_result"
    }
   ],
   "source": [
    "pd.DataFrame(feature_weight)"
   ]
  },
  {
   "cell_type": "code",
   "execution_count": 74,
   "metadata": {
    "ExecuteTime": {
     "end_time": "2019-01-03T06:33:36.516003Z",
     "start_time": "2019-01-03T06:33:36.507006Z"
    }
   },
   "outputs": [
    {
     "data": {
      "text/html": [
       "<div>\n",
       "<style scoped>\n",
       "    .dataframe tbody tr th:only-of-type {\n",
       "        vertical-align: middle;\n",
       "    }\n",
       "\n",
       "    .dataframe tbody tr th {\n",
       "        vertical-align: top;\n",
       "    }\n",
       "\n",
       "    .dataframe thead th {\n",
       "        text-align: right;\n",
       "    }\n",
       "</style>\n",
       "<table border=\"1\" class=\"dataframe\">\n",
       "  <thead>\n",
       "    <tr style=\"text-align: right;\">\n",
       "      <th></th>\n",
       "      <th>原始数据</th>\n",
       "      <th>标准化数据</th>\n",
       "    </tr>\n",
       "  </thead>\n",
       "  <tbody>\n",
       "    <tr>\n",
       "      <th>0</th>\n",
       "      <td>0.309170</td>\n",
       "      <td>3.432366e-01</td>\n",
       "    </tr>\n",
       "    <tr>\n",
       "      <th>1</th>\n",
       "      <td>0.294055</td>\n",
       "      <td>3.175607e-01</td>\n",
       "    </tr>\n",
       "    <tr>\n",
       "      <th>2</th>\n",
       "      <td>0.491600</td>\n",
       "      <td>4.092198e+09</td>\n",
       "    </tr>\n",
       "    <tr>\n",
       "      <th>3</th>\n",
       "      <td>0.611505</td>\n",
       "      <td>8.130171e+08</td>\n",
       "    </tr>\n",
       "    <tr>\n",
       "      <th>4</th>\n",
       "      <td>0.422047</td>\n",
       "      <td>4.213392e-01</td>\n",
       "    </tr>\n",
       "    <tr>\n",
       "      <th>5</th>\n",
       "      <td>0.386587</td>\n",
       "      <td>4.436147e-01</td>\n",
       "    </tr>\n",
       "    <tr>\n",
       "      <th>6</th>\n",
       "      <td>0.324683</td>\n",
       "      <td>4.762330e+09</td>\n",
       "    </tr>\n",
       "    <tr>\n",
       "      <th>7</th>\n",
       "      <td>0.459368</td>\n",
       "      <td>5.358715e-01</td>\n",
       "    </tr>\n",
       "    <tr>\n",
       "      <th>8</th>\n",
       "      <td>0.431208</td>\n",
       "      <td>4.336007e+09</td>\n",
       "    </tr>\n",
       "    <tr>\n",
       "      <th>9</th>\n",
       "      <td>0.319688</td>\n",
       "      <td>4.017911e-01</td>\n",
       "    </tr>\n",
       "    <tr>\n",
       "      <th>10</th>\n",
       "      <td>0.398194</td>\n",
       "      <td>4.006450e-01</td>\n",
       "    </tr>\n",
       "  </tbody>\n",
       "</table>\n",
       "</div>"
      ],
      "text/plain": [
       "        原始数据         标准化数据\n",
       "0   0.309170  3.432366e-01\n",
       "1   0.294055  3.175607e-01\n",
       "2   0.491600  4.092198e+09\n",
       "3   0.611505  8.130171e+08\n",
       "4   0.422047  4.213392e-01\n",
       "5   0.386587  4.436147e-01\n",
       "6   0.324683  4.762330e+09\n",
       "7   0.459368  5.358715e-01\n",
       "8   0.431208  4.336007e+09\n",
       "9   0.319688  4.017911e-01\n",
       "10  0.398194  4.006450e-01"
      ]
     },
     "execution_count": 74,
     "metadata": {},
     "output_type": "execute_result"
    }
   ],
   "source": [
    "pd.DataFrame({'原始数据':error,'标准化数据':error1})"
   ]
  },
  {
   "cell_type": "markdown",
   "metadata": {},
   "source": [
    "## Lasso（L1正则惩罚）"
   ]
  },
  {
   "cell_type": "markdown",
   "metadata": {},
   "source": [
    "### 原始数据"
   ]
  },
  {
   "cell_type": "code",
   "execution_count": 75,
   "metadata": {
    "ExecuteTime": {
     "end_time": "2019-01-03T06:35:42.969123Z",
     "start_time": "2019-01-03T06:35:40.607954Z"
    }
   },
   "outputs": [],
   "source": [
    "errorL=[]\n",
    "weightL=[]\n",
    "for k in range(11):\n",
    "    X_train, X_test, Y_train, Y_test=train_test_split(X,Y1,test_size=0.1,random_state=k)\n",
    "\n",
    "    lasso=LassoCV(cv=kf,n_jobs=-1)\n",
    "    #原始数据训练\n",
    "    lasso.fit(X_train.values,Y_train.values)\n",
    "    predict=lasso.predict(X_test.values)\n",
    "    #error变量拿到每一次的绝对误差率\n",
    "    errorL.append(np.mean(np.abs(predict-Y_test.values)/Y_test.values))\n",
    "    dicL={}\n",
    "    for i,j in zip(X_train.columns,lasso.coef_):\n",
    "        dicL[i]=j\n",
    "    #weight拿到每一次的特征权重\n",
    "    weightL.append(dicL)\n",
    "#feature_weight是每个特征每次的权重\n",
    "feature_weightL={}\n",
    "for j in weightL[0].keys():\n",
    "    a=[]\n",
    "    for i in weightL:\n",
    "        a.append(i[j])\n",
    "    feature_weightL[j]=a"
   ]
  },
  {
   "cell_type": "code",
   "execution_count": 76,
   "metadata": {
    "ExecuteTime": {
     "end_time": "2019-01-03T06:35:45.044092Z",
     "start_time": "2019-01-03T06:35:45.039589Z"
    }
   },
   "outputs": [
    {
     "data": {
      "text/plain": [
       "67947.24456772058"
      ]
     },
     "execution_count": 76,
     "metadata": {},
     "output_type": "execute_result"
    }
   ],
   "source": [
    "lasso.alpha_"
   ]
  },
  {
   "cell_type": "markdown",
   "metadata": {},
   "source": [
    "### 标准数据"
   ]
  },
  {
   "cell_type": "code",
   "execution_count": 77,
   "metadata": {
    "ExecuteTime": {
     "end_time": "2019-01-03T06:35:51.356844Z",
     "start_time": "2019-01-03T06:35:48.078026Z"
    }
   },
   "outputs": [],
   "source": [
    "errorLS=[]\n",
    "weightLS=[]\n",
    "for k in range(11):\n",
    "    x_train, x_test, y_train, y_test=train_test_split(x,y1,test_size=0.1,random_state=k)\n",
    "\n",
    "    lasso=LassoCV(cv=kf,n_jobs=-1)\n",
    "    #原始数据训练\n",
    "    lasso.fit(x_train.values,y_train.values)\n",
    "    predict=lasso.predict(x_test.values)\n",
    "    #error变量拿到每一次的绝对误差率\n",
    "    errorLS.append(np.mean(np.abs(predict*9459.408985-y_test.values*9459.408985)/(y_test.values*9459.408985+16508.77023)))\n",
    "    dicLS={}\n",
    "    for i,j in zip(x_train.columns,lasso.coef_):\n",
    "        dicLS[i]=j\n",
    "    #weight拿到每一次的特征权重\n",
    "    weightLS.append(dicLS)\n",
    "#feature_weight是每个特征每次的权重\n",
    "feature_weightLS={}\n",
    "for j in weightLS[0].keys():\n",
    "    a=[]\n",
    "    for i in weightLS:\n",
    "        a.append(i[j])\n",
    "    feature_weightLS[j]=a"
   ]
  },
  {
   "cell_type": "code",
   "execution_count": 78,
   "metadata": {
    "ExecuteTime": {
     "end_time": "2019-01-03T06:35:51.362850Z",
     "start_time": "2019-01-03T06:35:51.358346Z"
    }
   },
   "outputs": [
    {
     "data": {
      "text/plain": [
       "0.013558397642077884"
      ]
     },
     "execution_count": 78,
     "metadata": {},
     "output_type": "execute_result"
    }
   ],
   "source": [
    "lasso.alpha_"
   ]
  },
  {
   "cell_type": "markdown",
   "metadata": {},
   "source": [
    "### Lasso评估"
   ]
  },
  {
   "cell_type": "code",
   "execution_count": 79,
   "metadata": {
    "ExecuteTime": {
     "end_time": "2019-01-03T06:36:03.572448Z",
     "start_time": "2019-01-03T06:36:03.561427Z"
    }
   },
   "outputs": [],
   "source": [
    "pd.DataFrame(feature_weightL).to_csv('L1_O.csv')"
   ]
  },
  {
   "cell_type": "code",
   "execution_count": 80,
   "metadata": {
    "ExecuteTime": {
     "end_time": "2019-01-03T06:36:07.431312Z",
     "start_time": "2019-01-03T06:36:05.494684Z"
    }
   },
   "outputs": [],
   "source": [
    "pd.DataFrame(feature_weightLS).to_csv('L1.csv')"
   ]
  },
  {
   "cell_type": "code",
   "execution_count": 81,
   "metadata": {
    "ExecuteTime": {
     "end_time": "2019-01-03T06:36:11.690040Z",
     "start_time": "2019-01-03T06:36:11.681037Z"
    }
   },
   "outputs": [
    {
     "data": {
      "text/html": [
       "<div>\n",
       "<style scoped>\n",
       "    .dataframe tbody tr th:only-of-type {\n",
       "        vertical-align: middle;\n",
       "    }\n",
       "\n",
       "    .dataframe tbody tr th {\n",
       "        vertical-align: top;\n",
       "    }\n",
       "\n",
       "    .dataframe thead th {\n",
       "        text-align: right;\n",
       "    }\n",
       "</style>\n",
       "<table border=\"1\" class=\"dataframe\">\n",
       "  <thead>\n",
       "    <tr style=\"text-align: right;\">\n",
       "      <th></th>\n",
       "      <th>原始数据</th>\n",
       "      <th>标准化数据</th>\n",
       "    </tr>\n",
       "  </thead>\n",
       "  <tbody>\n",
       "    <tr>\n",
       "      <th>0</th>\n",
       "      <td>0.330027</td>\n",
       "      <td>0.318271</td>\n",
       "    </tr>\n",
       "    <tr>\n",
       "      <th>1</th>\n",
       "      <td>0.301527</td>\n",
       "      <td>0.283017</td>\n",
       "    </tr>\n",
       "    <tr>\n",
       "      <th>2</th>\n",
       "      <td>0.382274</td>\n",
       "      <td>0.429063</td>\n",
       "    </tr>\n",
       "    <tr>\n",
       "      <th>3</th>\n",
       "      <td>0.646449</td>\n",
       "      <td>0.632763</td>\n",
       "    </tr>\n",
       "    <tr>\n",
       "      <th>4</th>\n",
       "      <td>0.395504</td>\n",
       "      <td>0.432214</td>\n",
       "    </tr>\n",
       "    <tr>\n",
       "      <th>5</th>\n",
       "      <td>0.374857</td>\n",
       "      <td>0.387579</td>\n",
       "    </tr>\n",
       "    <tr>\n",
       "      <th>6</th>\n",
       "      <td>0.330627</td>\n",
       "      <td>0.328343</td>\n",
       "    </tr>\n",
       "    <tr>\n",
       "      <th>7</th>\n",
       "      <td>0.528619</td>\n",
       "      <td>0.515197</td>\n",
       "    </tr>\n",
       "    <tr>\n",
       "      <th>8</th>\n",
       "      <td>0.339813</td>\n",
       "      <td>0.358756</td>\n",
       "    </tr>\n",
       "    <tr>\n",
       "      <th>9</th>\n",
       "      <td>0.333983</td>\n",
       "      <td>0.343926</td>\n",
       "    </tr>\n",
       "    <tr>\n",
       "      <th>10</th>\n",
       "      <td>0.428755</td>\n",
       "      <td>0.398560</td>\n",
       "    </tr>\n",
       "  </tbody>\n",
       "</table>\n",
       "</div>"
      ],
      "text/plain": [
       "        原始数据     标准化数据\n",
       "0   0.330027  0.318271\n",
       "1   0.301527  0.283017\n",
       "2   0.382274  0.429063\n",
       "3   0.646449  0.632763\n",
       "4   0.395504  0.432214\n",
       "5   0.374857  0.387579\n",
       "6   0.330627  0.328343\n",
       "7   0.528619  0.515197\n",
       "8   0.339813  0.358756\n",
       "9   0.333983  0.343926\n",
       "10  0.428755  0.398560"
      ]
     },
     "execution_count": 81,
     "metadata": {},
     "output_type": "execute_result"
    }
   ],
   "source": [
    "pd.DataFrame({'原始数据':errorL,'标准化数据':errorLS})"
   ]
  },
  {
   "cell_type": "markdown",
   "metadata": {},
   "source": [
    "## RidgeCV（L2正则惩罚）\n",
    "### 原始数据"
   ]
  },
  {
   "cell_type": "code",
   "execution_count": 20,
   "metadata": {
    "ExecuteTime": {
     "end_time": "2019-01-08T02:13:35.049745Z",
     "start_time": "2019-01-08T02:13:32.125646Z"
    }
   },
   "outputs": [],
   "source": [
    "errorr=[]\n",
    "errorr1=[]\n",
    "weightr=[]\n",
    "result_dic={}\n",
    "for k in range(11):\n",
    "    X_train, X_test, Y_train, Y_test=train_test_split(X,Y1,test_size=0.1,random_state=k)\n",
    "    #LinearRegression\n",
    "    ridge=RidgeCV(cv=kf)\n",
    "    #原始数据训练\n",
    "    ridge.fit(X_train.values,Y_train.values)\n",
    "    predict=ridge.predict(X.values)\n",
    "    #error变量拿到每一次的绝对误差率\n",
    "    errorr.append(np.mean(np.abs(predict-Y1.values)/Y1.values))\n",
    "    errorr1.append(np.mean(np.abs(df.loc[X.index,'预计平均日销'].values-Y1.values)/Y1.values))\n",
    "    pd.DataFrame({'true':Y1,'predict':predict,'predict2':df.loc[X.index,'预计平均日销'].values}).to_csv('%i.csv'%k)\n",
    "    dicr={}\n",
    "    for i,j in zip(X_train.columns,ridge.coef_):\n",
    "        dicr[i]=j\n",
    "    #weight拿到每一次的特征权重\n",
    "    weightr.append(dicr)\n",
    "#feature_weight是每个特征每次的权重\n",
    "feature_weightr={}\n",
    "for j in weightr[0].keys():\n",
    "    a=[]\n",
    "    for i in weightr:\n",
    "        a.append(i[j])\n",
    "    feature_weightr[j]=a"
   ]
  },
  {
   "cell_type": "code",
   "execution_count": 89,
   "metadata": {
    "ExecuteTime": {
     "end_time": "2019-01-07T08:14:38.216651Z",
     "start_time": "2019-01-07T08:14:38.209646Z"
    }
   },
   "outputs": [],
   "source": [
    "pd.DataFrame({'a':df.loc[X_test.index,'预计平均日销'],'predict':predict,'true':Y_test}).to_csv('abc.csv')"
   ]
  },
  {
   "cell_type": "code",
   "execution_count": 79,
   "metadata": {
    "ExecuteTime": {
     "end_time": "2019-01-07T07:55:38.594434Z",
     "start_time": "2019-01-07T07:55:38.584914Z"
    }
   },
   "outputs": [
    {
     "data": {
      "text/html": [
       "<div>\n",
       "<style scoped>\n",
       "    .dataframe tbody tr th:only-of-type {\n",
       "        vertical-align: middle;\n",
       "    }\n",
       "\n",
       "    .dataframe tbody tr th {\n",
       "        vertical-align: top;\n",
       "    }\n",
       "\n",
       "    .dataframe thead th {\n",
       "        text-align: right;\n",
       "    }\n",
       "</style>\n",
       "<table border=\"1\" class=\"dataframe\">\n",
       "  <thead>\n",
       "    <tr style=\"text-align: right;\">\n",
       "      <th></th>\n",
       "      <th>模型</th>\n",
       "      <th>人工</th>\n",
       "    </tr>\n",
       "  </thead>\n",
       "  <tbody>\n",
       "    <tr>\n",
       "      <th>0</th>\n",
       "      <td>0.315787</td>\n",
       "      <td>0.380030</td>\n",
       "    </tr>\n",
       "    <tr>\n",
       "      <th>1</th>\n",
       "      <td>0.468952</td>\n",
       "      <td>0.615436</td>\n",
       "    </tr>\n",
       "    <tr>\n",
       "      <th>2</th>\n",
       "      <td>0.288752</td>\n",
       "      <td>0.421996</td>\n",
       "    </tr>\n",
       "    <tr>\n",
       "      <th>3</th>\n",
       "      <td>0.476911</td>\n",
       "      <td>0.474063</td>\n",
       "    </tr>\n",
       "    <tr>\n",
       "      <th>4</th>\n",
       "      <td>0.417831</td>\n",
       "      <td>0.598592</td>\n",
       "    </tr>\n",
       "    <tr>\n",
       "      <th>5</th>\n",
       "      <td>0.434793</td>\n",
       "      <td>0.636505</td>\n",
       "    </tr>\n",
       "    <tr>\n",
       "      <th>6</th>\n",
       "      <td>0.419954</td>\n",
       "      <td>0.480920</td>\n",
       "    </tr>\n",
       "    <tr>\n",
       "      <th>7</th>\n",
       "      <td>0.375713</td>\n",
       "      <td>0.460051</td>\n",
       "    </tr>\n",
       "    <tr>\n",
       "      <th>8</th>\n",
       "      <td>0.389419</td>\n",
       "      <td>0.546526</td>\n",
       "    </tr>\n",
       "    <tr>\n",
       "      <th>9</th>\n",
       "      <td>0.397563</td>\n",
       "      <td>0.597264</td>\n",
       "    </tr>\n",
       "    <tr>\n",
       "      <th>10</th>\n",
       "      <td>0.386883</td>\n",
       "      <td>0.391949</td>\n",
       "    </tr>\n",
       "  </tbody>\n",
       "</table>\n",
       "</div>"
      ],
      "text/plain": [
       "          模型        人工\n",
       "0   0.315787  0.380030\n",
       "1   0.468952  0.615436\n",
       "2   0.288752  0.421996\n",
       "3   0.476911  0.474063\n",
       "4   0.417831  0.598592\n",
       "5   0.434793  0.636505\n",
       "6   0.419954  0.480920\n",
       "7   0.375713  0.460051\n",
       "8   0.389419  0.546526\n",
       "9   0.397563  0.597264\n",
       "10  0.386883  0.391949"
      ]
     },
     "execution_count": 79,
     "metadata": {},
     "output_type": "execute_result"
    }
   ],
   "source": [
    "pd.DataFrame({'模型':errorr,'人工':errorr1})"
   ]
  },
  {
   "cell_type": "markdown",
   "metadata": {},
   "source": [
    "### 标准数据的带入"
   ]
  },
  {
   "cell_type": "code",
   "execution_count": 84,
   "metadata": {
    "ExecuteTime": {
     "end_time": "2019-01-03T06:36:21.760959Z",
     "start_time": "2019-01-03T06:36:21.103495Z"
    }
   },
   "outputs": [],
   "source": [
    "errorrs=[]\n",
    "weightrs=[]\n",
    "for k in range(11):\n",
    "    x_train, x_test, y_train, y_test=train_test_split(x,y1,test_size=0.1,random_state=k)\n",
    "    \n",
    "    ridge=RidgeCV(cv=kf)\n",
    "    #原始数据训练\n",
    "    ridge.fit(x_train.values,y_train.values)\n",
    "    predict=ridge.predict(x_test.values)\n",
    "    #error变量拿到每一次的绝对误差率\n",
    "    errorrs.append(np.mean(np.abs(predict*9459.408985-y_test.values*9459.408985)/(y_test.values*9459.408985+16508.77023)))\n",
    "    dicrs={}\n",
    "    for i,j in zip(x_train.columns,ridge.coef_):\n",
    "        dicrs[i]=j\n",
    "    #weight拿到每一次的特征权重\n",
    "    weightrs.append(dicrs)\n",
    "#feature_weight是每个特征每次的权重\n",
    "feature_weightrs={}\n",
    "for j in weightrs[0].keys():\n",
    "    a=[]\n",
    "    for i in weightrs:\n",
    "        a.append(i[j])\n",
    "    feature_weightrs[j]=a"
   ]
  },
  {
   "cell_type": "code",
   "execution_count": 85,
   "metadata": {
    "ExecuteTime": {
     "end_time": "2019-01-03T06:36:23.268261Z",
     "start_time": "2019-01-03T06:36:23.263759Z"
    }
   },
   "outputs": [
    {
     "data": {
      "text/plain": [
       "10.0"
      ]
     },
     "execution_count": 85,
     "metadata": {},
     "output_type": "execute_result"
    }
   ],
   "source": [
    "ridge.alpha_"
   ]
  },
  {
   "cell_type": "markdown",
   "metadata": {},
   "source": [
    "### Ridge评估"
   ]
  },
  {
   "cell_type": "code",
   "execution_count": 86,
   "metadata": {
    "ExecuteTime": {
     "end_time": "2019-01-03T06:36:30.060850Z",
     "start_time": "2019-01-03T06:36:30.050329Z"
    }
   },
   "outputs": [],
   "source": [
    "pd.DataFrame(feature_weightrs).to_csv('pre.csv')"
   ]
  },
  {
   "cell_type": "code",
   "execution_count": 87,
   "metadata": {
    "ExecuteTime": {
     "end_time": "2019-01-03T06:36:31.892517Z",
     "start_time": "2019-01-03T06:36:31.882508Z"
    }
   },
   "outputs": [
    {
     "data": {
      "text/html": [
       "<div>\n",
       "<style scoped>\n",
       "    .dataframe tbody tr th:only-of-type {\n",
       "        vertical-align: middle;\n",
       "    }\n",
       "\n",
       "    .dataframe tbody tr th {\n",
       "        vertical-align: top;\n",
       "    }\n",
       "\n",
       "    .dataframe thead th {\n",
       "        text-align: right;\n",
       "    }\n",
       "</style>\n",
       "<table border=\"1\" class=\"dataframe\">\n",
       "  <thead>\n",
       "    <tr style=\"text-align: right;\">\n",
       "      <th></th>\n",
       "      <th>原始数据</th>\n",
       "      <th>标准化数据</th>\n",
       "    </tr>\n",
       "  </thead>\n",
       "  <tbody>\n",
       "    <tr>\n",
       "      <th>0</th>\n",
       "      <td>0.303181</td>\n",
       "      <td>0.289201</td>\n",
       "    </tr>\n",
       "    <tr>\n",
       "      <th>1</th>\n",
       "      <td>0.283511</td>\n",
       "      <td>0.257153</td>\n",
       "    </tr>\n",
       "    <tr>\n",
       "      <th>2</th>\n",
       "      <td>0.470418</td>\n",
       "      <td>0.460247</td>\n",
       "    </tr>\n",
       "    <tr>\n",
       "      <th>3</th>\n",
       "      <td>0.630525</td>\n",
       "      <td>0.622077</td>\n",
       "    </tr>\n",
       "    <tr>\n",
       "      <th>4</th>\n",
       "      <td>0.432699</td>\n",
       "      <td>0.430883</td>\n",
       "    </tr>\n",
       "    <tr>\n",
       "      <th>5</th>\n",
       "      <td>0.381844</td>\n",
       "      <td>0.394714</td>\n",
       "    </tr>\n",
       "    <tr>\n",
       "      <th>6</th>\n",
       "      <td>0.335121</td>\n",
       "      <td>0.321809</td>\n",
       "    </tr>\n",
       "    <tr>\n",
       "      <th>7</th>\n",
       "      <td>0.464413</td>\n",
       "      <td>0.435104</td>\n",
       "    </tr>\n",
       "    <tr>\n",
       "      <th>8</th>\n",
       "      <td>0.417501</td>\n",
       "      <td>0.387323</td>\n",
       "    </tr>\n",
       "    <tr>\n",
       "      <th>9</th>\n",
       "      <td>0.320945</td>\n",
       "      <td>0.365304</td>\n",
       "    </tr>\n",
       "    <tr>\n",
       "      <th>10</th>\n",
       "      <td>0.399136</td>\n",
       "      <td>0.378539</td>\n",
       "    </tr>\n",
       "  </tbody>\n",
       "</table>\n",
       "</div>"
      ],
      "text/plain": [
       "        原始数据     标准化数据\n",
       "0   0.303181  0.289201\n",
       "1   0.283511  0.257153\n",
       "2   0.470418  0.460247\n",
       "3   0.630525  0.622077\n",
       "4   0.432699  0.430883\n",
       "5   0.381844  0.394714\n",
       "6   0.335121  0.321809\n",
       "7   0.464413  0.435104\n",
       "8   0.417501  0.387323\n",
       "9   0.320945  0.365304\n",
       "10  0.399136  0.378539"
      ]
     },
     "execution_count": 87,
     "metadata": {},
     "output_type": "execute_result"
    }
   ],
   "source": [
    "pd.DataFrame({'原始数据':errorr,'标准化数据':errorrs})"
   ]
  },
  {
   "cell_type": "markdown",
   "metadata": {},
   "source": [
    "## 线性回归效果"
   ]
  },
  {
   "cell_type": "code",
   "execution_count": 88,
   "metadata": {
    "ExecuteTime": {
     "end_time": "2019-01-03T06:36:41.170117Z",
     "start_time": "2019-01-03T06:36:41.126586Z"
    }
   },
   "outputs": [],
   "source": [
    "COST=pd.DataFrame({'LinearO':error,'Linear':error1,'LassoO':errorL,'Lasso':errorLS,'RidgeO':errorr,'Ridge':errorrs})\n",
    "COST.to_csv('cost.csv')"
   ]
  },
  {
   "cell_type": "code",
   "execution_count": 106,
   "metadata": {
    "scrolled": true
   },
   "outputs": [
    {
     "data": {
      "text/html": [
       "<div>\n",
       "<style scoped>\n",
       "    .dataframe tbody tr th:only-of-type {\n",
       "        vertical-align: middle;\n",
       "    }\n",
       "\n",
       "    .dataframe tbody tr th {\n",
       "        vertical-align: top;\n",
       "    }\n",
       "\n",
       "    .dataframe thead th {\n",
       "        text-align: right;\n",
       "    }\n",
       "</style>\n",
       "<table border=\"1\" class=\"dataframe\">\n",
       "  <thead>\n",
       "    <tr style=\"text-align: right;\">\n",
       "      <th></th>\n",
       "      <th>Lasso</th>\n",
       "      <th>LassoO</th>\n",
       "      <th>Linear</th>\n",
       "      <th>LinearO</th>\n",
       "      <th>Ridge</th>\n",
       "      <th>RidgeO</th>\n",
       "    </tr>\n",
       "  </thead>\n",
       "  <tbody>\n",
       "    <tr>\n",
       "      <th>0</th>\n",
       "      <td>0.319975</td>\n",
       "      <td>0.336340</td>\n",
       "      <td>0.346900</td>\n",
       "      <td>0.320018</td>\n",
       "      <td>0.305508</td>\n",
       "      <td>0.306468</td>\n",
       "    </tr>\n",
       "    <tr>\n",
       "      <th>1</th>\n",
       "      <td>0.288590</td>\n",
       "      <td>0.300293</td>\n",
       "      <td>0.298725</td>\n",
       "      <td>0.308785</td>\n",
       "      <td>0.287048</td>\n",
       "      <td>0.305454</td>\n",
       "    </tr>\n",
       "    <tr>\n",
       "      <th>2</th>\n",
       "      <td>0.415115</td>\n",
       "      <td>0.385202</td>\n",
       "      <td>0.451051</td>\n",
       "      <td>0.469105</td>\n",
       "      <td>0.442428</td>\n",
       "      <td>0.459357</td>\n",
       "    </tr>\n",
       "    <tr>\n",
       "      <th>3</th>\n",
       "      <td>0.641937</td>\n",
       "      <td>0.649471</td>\n",
       "      <td>0.639577</td>\n",
       "      <td>0.636166</td>\n",
       "      <td>0.634129</td>\n",
       "      <td>0.641759</td>\n",
       "    </tr>\n",
       "    <tr>\n",
       "      <th>4</th>\n",
       "      <td>0.425889</td>\n",
       "      <td>0.391801</td>\n",
       "      <td>0.423526</td>\n",
       "      <td>0.451860</td>\n",
       "      <td>0.432448</td>\n",
       "      <td>0.447531</td>\n",
       "    </tr>\n",
       "    <tr>\n",
       "      <th>5</th>\n",
       "      <td>0.389003</td>\n",
       "      <td>0.364980</td>\n",
       "      <td>0.411023</td>\n",
       "      <td>0.387894</td>\n",
       "      <td>0.406585</td>\n",
       "      <td>0.378800</td>\n",
       "    </tr>\n",
       "    <tr>\n",
       "      <th>6</th>\n",
       "      <td>0.340230</td>\n",
       "      <td>0.333913</td>\n",
       "      <td>0.324721</td>\n",
       "      <td>0.346779</td>\n",
       "      <td>0.351481</td>\n",
       "      <td>0.350943</td>\n",
       "    </tr>\n",
       "    <tr>\n",
       "      <th>7</th>\n",
       "      <td>0.513862</td>\n",
       "      <td>0.533991</td>\n",
       "      <td>0.468612</td>\n",
       "      <td>0.514369</td>\n",
       "      <td>0.474813</td>\n",
       "      <td>0.514702</td>\n",
       "    </tr>\n",
       "    <tr>\n",
       "      <th>8</th>\n",
       "      <td>0.354936</td>\n",
       "      <td>0.343176</td>\n",
       "      <td>0.385919</td>\n",
       "      <td>0.424137</td>\n",
       "      <td>0.379972</td>\n",
       "      <td>0.411607</td>\n",
       "    </tr>\n",
       "    <tr>\n",
       "      <th>9</th>\n",
       "      <td>0.330681</td>\n",
       "      <td>0.333434</td>\n",
       "      <td>0.343155</td>\n",
       "      <td>0.316460</td>\n",
       "      <td>0.335688</td>\n",
       "      <td>0.320573</td>\n",
       "    </tr>\n",
       "    <tr>\n",
       "      <th>10</th>\n",
       "      <td>0.401861</td>\n",
       "      <td>0.423905</td>\n",
       "      <td>0.384776</td>\n",
       "      <td>0.407392</td>\n",
       "      <td>0.379720</td>\n",
       "      <td>0.408864</td>\n",
       "    </tr>\n",
       "  </tbody>\n",
       "</table>\n",
       "</div>"
      ],
      "text/plain": [
       "       Lasso    LassoO    Linear   LinearO     Ridge    RidgeO\n",
       "0   0.319975  0.336340  0.346900  0.320018  0.305508  0.306468\n",
       "1   0.288590  0.300293  0.298725  0.308785  0.287048  0.305454\n",
       "2   0.415115  0.385202  0.451051  0.469105  0.442428  0.459357\n",
       "3   0.641937  0.649471  0.639577  0.636166  0.634129  0.641759\n",
       "4   0.425889  0.391801  0.423526  0.451860  0.432448  0.447531\n",
       "5   0.389003  0.364980  0.411023  0.387894  0.406585  0.378800\n",
       "6   0.340230  0.333913  0.324721  0.346779  0.351481  0.350943\n",
       "7   0.513862  0.533991  0.468612  0.514369  0.474813  0.514702\n",
       "8   0.354936  0.343176  0.385919  0.424137  0.379972  0.411607\n",
       "9   0.330681  0.333434  0.343155  0.316460  0.335688  0.320573\n",
       "10  0.401861  0.423905  0.384776  0.407392  0.379720  0.408864"
      ]
     },
     "execution_count": 106,
     "metadata": {},
     "output_type": "execute_result"
    }
   ],
   "source": [
    "COST=pd.DataFrame({'LinearO':error,'Linear':error1,'LassoO':errorL,'Lasso':errorLS,'RidgeO':errorr,'Ridge':errorrs})\n",
    "COST"
   ]
  },
  {
   "cell_type": "code",
   "execution_count": 89,
   "metadata": {
    "ExecuteTime": {
     "end_time": "2019-01-03T06:36:46.295089Z",
     "start_time": "2019-01-03T06:36:46.256549Z"
    }
   },
   "outputs": [
    {
     "data": {
      "text/html": [
       "<div>\n",
       "<style scoped>\n",
       "    .dataframe tbody tr th:only-of-type {\n",
       "        vertical-align: middle;\n",
       "    }\n",
       "\n",
       "    .dataframe tbody tr th {\n",
       "        vertical-align: top;\n",
       "    }\n",
       "\n",
       "    .dataframe thead th {\n",
       "        text-align: right;\n",
       "    }\n",
       "</style>\n",
       "<table border=\"1\" class=\"dataframe\">\n",
       "  <thead>\n",
       "    <tr style=\"text-align: right;\">\n",
       "      <th></th>\n",
       "      <th>LinearO</th>\n",
       "      <th>Linear</th>\n",
       "      <th>LassoO</th>\n",
       "      <th>Lasso</th>\n",
       "      <th>RidgeO</th>\n",
       "      <th>Ridge</th>\n",
       "    </tr>\n",
       "  </thead>\n",
       "  <tbody>\n",
       "    <tr>\n",
       "      <th>count</th>\n",
       "      <td>11.000000</td>\n",
       "      <td>1.100000e+01</td>\n",
       "      <td>11.000000</td>\n",
       "      <td>11.000000</td>\n",
       "      <td>11.000000</td>\n",
       "      <td>11.000000</td>\n",
       "    </tr>\n",
       "    <tr>\n",
       "      <th>mean</th>\n",
       "      <td>0.404373</td>\n",
       "      <td>1.273050e+09</td>\n",
       "      <td>0.399312</td>\n",
       "      <td>0.402517</td>\n",
       "      <td>0.403572</td>\n",
       "      <td>0.394760</td>\n",
       "    </tr>\n",
       "    <tr>\n",
       "      <th>std</th>\n",
       "      <td>0.094699</td>\n",
       "      <td>2.026341e+09</td>\n",
       "      <td>0.103177</td>\n",
       "      <td>0.099881</td>\n",
       "      <td>0.098599</td>\n",
       "      <td>0.097714</td>\n",
       "    </tr>\n",
       "    <tr>\n",
       "      <th>min</th>\n",
       "      <td>0.294055</td>\n",
       "      <td>3.175607e-01</td>\n",
       "      <td>0.301527</td>\n",
       "      <td>0.283017</td>\n",
       "      <td>0.283511</td>\n",
       "      <td>0.257153</td>\n",
       "    </tr>\n",
       "    <tr>\n",
       "      <th>25%</th>\n",
       "      <td>0.322185</td>\n",
       "      <td>4.012180e-01</td>\n",
       "      <td>0.332305</td>\n",
       "      <td>0.336134</td>\n",
       "      <td>0.328033</td>\n",
       "      <td>0.343557</td>\n",
       "    </tr>\n",
       "    <tr>\n",
       "      <th>50%</th>\n",
       "      <td>0.398194</td>\n",
       "      <td>4.436147e-01</td>\n",
       "      <td>0.374857</td>\n",
       "      <td>0.387579</td>\n",
       "      <td>0.399136</td>\n",
       "      <td>0.387323</td>\n",
       "    </tr>\n",
       "    <tr>\n",
       "      <th>75%</th>\n",
       "      <td>0.445288</td>\n",
       "      <td>2.452607e+09</td>\n",
       "      <td>0.412129</td>\n",
       "      <td>0.430639</td>\n",
       "      <td>0.448556</td>\n",
       "      <td>0.432994</td>\n",
       "    </tr>\n",
       "    <tr>\n",
       "      <th>max</th>\n",
       "      <td>0.611505</td>\n",
       "      <td>4.762330e+09</td>\n",
       "      <td>0.646449</td>\n",
       "      <td>0.632763</td>\n",
       "      <td>0.630525</td>\n",
       "      <td>0.622077</td>\n",
       "    </tr>\n",
       "  </tbody>\n",
       "</table>\n",
       "</div>"
      ],
      "text/plain": [
       "         LinearO        Linear     LassoO      Lasso     RidgeO      Ridge\n",
       "count  11.000000  1.100000e+01  11.000000  11.000000  11.000000  11.000000\n",
       "mean    0.404373  1.273050e+09   0.399312   0.402517   0.403572   0.394760\n",
       "std     0.094699  2.026341e+09   0.103177   0.099881   0.098599   0.097714\n",
       "min     0.294055  3.175607e-01   0.301527   0.283017   0.283511   0.257153\n",
       "25%     0.322185  4.012180e-01   0.332305   0.336134   0.328033   0.343557\n",
       "50%     0.398194  4.436147e-01   0.374857   0.387579   0.399136   0.387323\n",
       "75%     0.445288  2.452607e+09   0.412129   0.430639   0.448556   0.432994\n",
       "max     0.611505  4.762330e+09   0.646449   0.632763   0.630525   0.622077"
      ]
     },
     "execution_count": 89,
     "metadata": {},
     "output_type": "execute_result"
    }
   ],
   "source": [
    "COST.describe()"
   ]
  },
  {
   "cell_type": "code",
   "execution_count": 109,
   "metadata": {},
   "outputs": [
    {
     "data": {
      "text/html": [
       "<div>\n",
       "<style scoped>\n",
       "    .dataframe tbody tr th:only-of-type {\n",
       "        vertical-align: middle;\n",
       "    }\n",
       "\n",
       "    .dataframe tbody tr th {\n",
       "        vertical-align: top;\n",
       "    }\n",
       "\n",
       "    .dataframe thead th {\n",
       "        text-align: right;\n",
       "    }\n",
       "</style>\n",
       "<table border=\"1\" class=\"dataframe\">\n",
       "  <thead>\n",
       "    <tr style=\"text-align: right;\">\n",
       "      <th></th>\n",
       "      <th>Lasso</th>\n",
       "      <th>LassoO</th>\n",
       "      <th>Linear</th>\n",
       "      <th>LinearO</th>\n",
       "      <th>Ridge</th>\n",
       "      <th>RidgeO</th>\n",
       "    </tr>\n",
       "  </thead>\n",
       "  <tbody>\n",
       "    <tr>\n",
       "      <th>count</th>\n",
       "      <td>11.000000</td>\n",
       "      <td>11.000000</td>\n",
       "      <td>11.000000</td>\n",
       "      <td>11.000000</td>\n",
       "      <td>11.000000</td>\n",
       "      <td>11.000000</td>\n",
       "    </tr>\n",
       "    <tr>\n",
       "      <th>mean</th>\n",
       "      <td>0.402007</td>\n",
       "      <td>0.399682</td>\n",
       "      <td>0.407089</td>\n",
       "      <td>0.416633</td>\n",
       "      <td>0.402711</td>\n",
       "      <td>0.413278</td>\n",
       "    </tr>\n",
       "    <tr>\n",
       "      <th>std</th>\n",
       "      <td>0.100847</td>\n",
       "      <td>0.104064</td>\n",
       "      <td>0.093401</td>\n",
       "      <td>0.099292</td>\n",
       "      <td>0.096030</td>\n",
       "      <td>0.101248</td>\n",
       "    </tr>\n",
       "    <tr>\n",
       "      <th>min</th>\n",
       "      <td>0.288590</td>\n",
       "      <td>0.300293</td>\n",
       "      <td>0.298725</td>\n",
       "      <td>0.308785</td>\n",
       "      <td>0.287048</td>\n",
       "      <td>0.305454</td>\n",
       "    </tr>\n",
       "    <tr>\n",
       "      <th>25%</th>\n",
       "      <td>0.335456</td>\n",
       "      <td>0.335126</td>\n",
       "      <td>0.345028</td>\n",
       "      <td>0.333398</td>\n",
       "      <td>0.343585</td>\n",
       "      <td>0.335758</td>\n",
       "    </tr>\n",
       "    <tr>\n",
       "      <th>50%</th>\n",
       "      <td>0.389003</td>\n",
       "      <td>0.364980</td>\n",
       "      <td>0.385919</td>\n",
       "      <td>0.407392</td>\n",
       "      <td>0.379972</td>\n",
       "      <td>0.408864</td>\n",
       "    </tr>\n",
       "    <tr>\n",
       "      <th>75%</th>\n",
       "      <td>0.420502</td>\n",
       "      <td>0.407853</td>\n",
       "      <td>0.437288</td>\n",
       "      <td>0.460482</td>\n",
       "      <td>0.437438</td>\n",
       "      <td>0.453444</td>\n",
       "    </tr>\n",
       "    <tr>\n",
       "      <th>max</th>\n",
       "      <td>0.641937</td>\n",
       "      <td>0.649471</td>\n",
       "      <td>0.639577</td>\n",
       "      <td>0.636166</td>\n",
       "      <td>0.634129</td>\n",
       "      <td>0.641759</td>\n",
       "    </tr>\n",
       "  </tbody>\n",
       "</table>\n",
       "</div>"
      ],
      "text/plain": [
       "           Lasso     LassoO     Linear    LinearO      Ridge     RidgeO\n",
       "count  11.000000  11.000000  11.000000  11.000000  11.000000  11.000000\n",
       "mean    0.402007   0.399682   0.407089   0.416633   0.402711   0.413278\n",
       "std     0.100847   0.104064   0.093401   0.099292   0.096030   0.101248\n",
       "min     0.288590   0.300293   0.298725   0.308785   0.287048   0.305454\n",
       "25%     0.335456   0.335126   0.345028   0.333398   0.343585   0.335758\n",
       "50%     0.389003   0.364980   0.385919   0.407392   0.379972   0.408864\n",
       "75%     0.420502   0.407853   0.437288   0.460482   0.437438   0.453444\n",
       "max     0.641937   0.649471   0.639577   0.636166   0.634129   0.641759"
      ]
     },
     "execution_count": 109,
     "metadata": {},
     "output_type": "execute_result"
    }
   ],
   "source": [
    "COST.describe()"
   ]
  },
  {
   "cell_type": "markdown",
   "metadata": {},
   "source": [
    "# 多项式回归"
   ]
  },
  {
   "cell_type": "code",
   "execution_count": 37,
   "metadata": {
    "ExecuteTime": {
     "end_time": "2019-01-08T06:21:06.029873Z",
     "start_time": "2019-01-08T06:21:06.026880Z"
    }
   },
   "outputs": [],
   "source": [
    "from sklearn.preprocessing import PolynomialFeatures\n",
    "from sklearn.linear_model import LassoCV"
   ]
  },
  {
   "cell_type": "code",
   "execution_count": 45,
   "metadata": {
    "ExecuteTime": {
     "end_time": "2019-01-08T06:25:13.239509Z",
     "start_time": "2019-01-08T06:25:13.234507Z"
    }
   },
   "outputs": [
    {
     "data": {
      "text/plain": [
       "Index(['H&M', 'miniso$名创优品', '餐饮$吃喝', '超市', '服装', '家居', '酒店', '美容', '屈臣氏',\n",
       "       '商场$购物', '无印良品', '小区$住宅', '星巴客$Starbucks', '学校', '银行', '面积', '房价',\n",
       "       '城市可支配收入', '租金', '开头门间', '地铁', '商场内部地铁', '距离地铁50m', '地铁50-150',\n",
       "       '地铁150-500', '地铁500以上', '离入口/楼梯口距离', '开业时间30天内', '30-60天', '开业时间大于60',\n",
       "       '城市级别_一线', '城市级别_三线', '城市级别_二线', '城市级别_五线', '城市级别_四线', '城市级别_新一线',\n",
       "       '楼层_-1楼', '楼层_-2楼', '楼层_0楼', '楼层_1楼', '楼层_2楼', '楼层_3楼', '楼层_4楼',\n",
       "       '商圈类型_住宅区', '商圈类型_商业区', '商圈类型_混合区', '商圈类型_科教区', '商圈等级_主流', '商圈等级_百货',\n",
       "       '商圈等级_社区', '商圈等级_高端', '经营性质_公投', '经营性质_加盟', '经营性质_直营', '店铺类型_常规店',\n",
       "       '店铺类型_战略店', '店铺类型_标杆店', '地区_华东', '地区_华中', '地区_华北', '地区_华南', '地区_西北',\n",
       "       '地区_西南', '开业月份_10月', '开业月份_11月', '开业月份_12月', '开业月份_1月', '开业月份_2月',\n",
       "       '开业月份_3月', '开业月份_4月', '开业月份_5月', '开业月份_6月', '开业月份_7月', '开业月份_8月',\n",
       "       '开业月份_9月'],\n",
       "      dtype='object')"
      ]
     },
     "execution_count": 45,
     "metadata": {},
     "output_type": "execute_result"
    }
   ],
   "source": [
    "X.columns"
   ]
  },
  {
   "cell_type": "code",
   "execution_count": 46,
   "metadata": {
    "ExecuteTime": {
     "end_time": "2019-01-08T06:25:46.845935Z",
     "start_time": "2019-01-08T06:25:46.841433Z"
    }
   },
   "outputs": [],
   "source": [
    "Xp=X.loc[:,['面积','租金','房价','城市可支配收入']]"
   ]
  },
  {
   "cell_type": "code",
   "execution_count": 47,
   "metadata": {
    "ExecuteTime": {
     "end_time": "2019-01-08T06:25:49.199935Z",
     "start_time": "2019-01-08T06:25:49.172915Z"
    }
   },
   "outputs": [
    {
     "data": {
      "text/plain": [
       "array([[2.74000000e+02, 2.33941606e+03, 1.13270000e+04, ...,\n",
       "        3.96917063e+42, 7.17618481e+42, 1.29744053e+43],\n",
       "       [2.58000000e+02, 3.60000000e+03, 1.66280000e+04, ...,\n",
       "        1.42684144e+44, 2.49817386e+44, 4.37390760e+44],\n",
       "       [2.63000000e+02, 2.77186312e+03, 1.69000000e+04, ...,\n",
       "        1.47390364e+44, 2.53903886e+44, 4.37390760e+44],\n",
       "       ...,\n",
       "       [3.11000000e+02, 1.30225080e+03, 1.12280000e+04, ...,\n",
       "        7.00408759e+42, 1.37449293e+43, 2.69732608e+43],\n",
       "       [2.06000000e+02, 3.78163165e+03, 1.29160000e+04, ...,\n",
       "        9.26835870e+42, 1.58113205e+43, 2.69732608e+43],\n",
       "       [2.51000000e+02, 3.04470120e+03, 1.44110000e+04, ...,\n",
       "        1.15381186e+43, 1.76414478e+43, 2.69732608e+43]])"
      ]
     },
     "execution_count": 47,
     "metadata": {},
     "output_type": "execute_result"
    }
   ],
   "source": [
    "poly_features.fit_transform(Xp)"
   ]
  },
  {
   "cell_type": "code",
   "execution_count": 1,
   "metadata": {
    "ExecuteTime": {
     "end_time": "2019-01-08T08:15:31.051289Z",
     "start_time": "2019-01-08T08:15:30.979223Z"
    }
   },
   "outputs": [
    {
     "ename": "NameError",
     "evalue": "name 'X' is not defined",
     "output_type": "error",
     "traceback": [
      "\u001b[1;31m---------------------------------------------------------------------------\u001b[0m",
      "\u001b[1;31mNameError\u001b[0m                                 Traceback (most recent call last)",
      "\u001b[1;32m<ipython-input-1-a5cc150b94fd>\u001b[0m in \u001b[0;36m<module>\u001b[1;34m()\u001b[0m\n\u001b[1;32m----> 1\u001b[1;33m \u001b[0mXp\u001b[0m\u001b[1;33m=\u001b[0m\u001b[0mX\u001b[0m\u001b[1;33m.\u001b[0m\u001b[0mloc\u001b[0m\u001b[1;33m[\u001b[0m\u001b[1;33m:\u001b[0m\u001b[1;33m,\u001b[0m\u001b[1;33m[\u001b[0m\u001b[1;34m'面积'\u001b[0m\u001b[1;33m,\u001b[0m\u001b[1;34m'租金'\u001b[0m\u001b[1;33m]\u001b[0m\u001b[1;33m]\u001b[0m\u001b[1;33m\u001b[0m\u001b[0m\n\u001b[0m",
      "\u001b[1;31mNameError\u001b[0m: name 'X' is not defined"
     ]
    }
   ],
   "source": [
    "Xp=X.loc[:,['面积','租金']]"
   ]
  },
  {
   "cell_type": "code",
   "execution_count": 50,
   "metadata": {
    "ExecuteTime": {
     "end_time": "2019-01-08T06:40:34.200822Z",
     "start_time": "2019-01-08T06:38:02.495194Z"
    }
   },
   "outputs": [
    {
     "name": "stdout",
     "output_type": "stream",
     "text": [
      "0.4543732626913086 0.032481079119115464\n",
      "0.4241035735364981 -0.10464151907248898\n",
      "0.36372523918632105 -0.23611094236643426\n",
      "0.08772629075994864 0.03598918998263323\n",
      "0.08160526243612465 0.02380057442128869\n",
      "0.07621673121907191 0.013087542732908686\n",
      "0.07060539472322969 0.004366033468130803\n",
      "0.0 -0.15988060478662436\n",
      "0.0 -0.15988060478662436\n"
     ]
    }
   ],
   "source": [
    "errorLp=[]\n",
    "weightLp=[]\n",
    "for k in range(2,11):\n",
    "    poly_features = PolynomialFeatures(degree=k, include_bias=False)\n",
    "    X_poly = poly_features.fit_transform(Xp)\n",
    "    X_train, X_test, Y_train, Y_test=train_test_split(X_poly,Y1,test_size=0.1,random_state=11)\n",
    "\n",
    "    lasso=LassoCV(cv=kf,n_jobs=-1)\n",
    "    #原始数据训练\n",
    "    lasso.fit(X_train,Y_train.values)\n",
    "    print(lasso.score(X_train,Y_train),lasso.score(X_test,Y_test))\n",
    "    predict=lasso.predict(X_test)\n",
    "    #error变量拿到每一次的绝对误差率\n",
    "    errorLp.append(np.mean(np.abs(predict-Y_test.values)/Y_test.values))"
   ]
  },
  {
   "cell_type": "code",
   "execution_count": 49,
   "metadata": {
    "ExecuteTime": {
     "end_time": "2019-01-08T06:35:58.263119Z",
     "start_time": "2019-01-08T06:35:58.258617Z"
    }
   },
   "outputs": [
    {
     "data": {
      "text/plain": [
       "[0.4419409703180285,\n",
       " 0.4739137037576474,\n",
       " 0.5050466840739846,\n",
       " 0.4989946203854231,\n",
       " 0.5019852482964722,\n",
       " 0.504034448825661,\n",
       " 0.5056971139561205,\n",
       " 0.5385086072263034,\n",
       " 0.5385086072263034]"
      ]
     },
     "execution_count": 49,
     "metadata": {},
     "output_type": "execute_result"
    }
   ],
   "source": [
    "errorLp"
   ]
  },
  {
   "cell_type": "code",
   "execution_count": 44,
   "metadata": {
    "ExecuteTime": {
     "end_time": "2019-01-08T06:22:50.727040Z",
     "start_time": "2019-01-08T06:22:50.723043Z"
    }
   },
   "outputs": [
    {
     "data": {
      "text/plain": [
       "[0.45611382496680486,\n",
       " 0.507091429797757,\n",
       " 0.5174995662547776,\n",
       " 0.5196813876630999,\n",
       " 0.5205506200835165,\n",
       " 0.5211760012437905,\n",
       " 0.5218506690757126,\n",
       " 0.5224916451217095,\n",
       " 0.5230830471808469]"
      ]
     },
     "execution_count": 44,
     "metadata": {},
     "output_type": "execute_result"
    }
   ],
   "source": [
    "errorLp"
   ]
  },
  {
   "cell_type": "code",
   "execution_count": 30,
   "metadata": {
    "ExecuteTime": {
     "end_time": "2019-01-08T03:03:39.044353Z",
     "start_time": "2019-01-08T03:03:39.039358Z"
    }
   },
   "outputs": [
    {
     "data": {
      "text/plain": [
       "[0.3419829392021551,\n",
       " 0.4779628169958408,\n",
       " 0.31324795265055283,\n",
       " 0.46748061852464184,\n",
       " 0.41743065028067367,\n",
       " 0.4412334645989495,\n",
       " 0.39092109842844946,\n",
       " 0.3525806706505472,\n",
       " 0.38045937967528637,\n",
       " 0.438844381007155,\n",
       " 0.37514440937803073]"
      ]
     },
     "execution_count": 30,
     "metadata": {},
     "output_type": "execute_result"
    }
   ],
   "source": [
    "errorLp"
   ]
  },
  {
   "cell_type": "code",
   "execution_count": null,
   "metadata": {},
   "outputs": [],
   "source": []
  },
  {
   "cell_type": "markdown",
   "metadata": {},
   "source": [
    "# 支持向量机SVR"
   ]
  },
  {
   "cell_type": "code",
   "execution_count": null,
   "metadata": {},
   "outputs": [],
   "source": []
  },
  {
   "cell_type": "markdown",
   "metadata": {},
   "source": [
    "## rbf核"
   ]
  },
  {
   "cell_type": "code",
   "execution_count": 9,
   "metadata": {
    "ExecuteTime": {
     "end_time": "2019-01-08T08:26:04.197874Z",
     "start_time": "2019-01-08T08:26:04.132828Z"
    }
   },
   "outputs": [],
   "source": [
    "from sklearn.svm import SVR\n",
    "from sklearn.model_selection import GridSearchCV"
   ]
  },
  {
   "cell_type": "code",
   "execution_count": 10,
   "metadata": {
    "ExecuteTime": {
     "end_time": "2019-01-08T08:26:05.728089Z",
     "start_time": "2019-01-08T08:26:05.724596Z"
    }
   },
   "outputs": [],
   "source": [
    "from sklearn.metrics import explained_variance_score, mean_absolute_error, mean_squared_error, r2_score"
   ]
  },
  {
   "cell_type": "code",
   "execution_count": 11,
   "metadata": {
    "ExecuteTime": {
     "end_time": "2019-01-08T08:26:08.223754Z",
     "start_time": "2019-01-08T08:26:08.220259Z"
    }
   },
   "outputs": [],
   "source": [
    "def Oscore(y_true, y_pred):\n",
    "    return np.mean(np.abs(y_pred-y_true)/y_true)\n",
    "def score(y_true, y_pred):\n",
    "    return np.mean(np.abs(y_pred*9459.408985-y_true*9459.408985)/(y_true*9459.408985+16508.77023))"
   ]
  },
  {
   "cell_type": "code",
   "execution_count": 55,
   "metadata": {},
   "outputs": [
    {
     "data": {
      "text/plain": [
       "0.46167572186390543"
      ]
     },
     "execution_count": 55,
     "metadata": {},
     "output_type": "execute_result"
    }
   ],
   "source": [
    "X_train, X_test, Y_train, Y_test=train_test_split(X,Y1,test_size=0.1,random_state=k)\n",
    "svrRBF=SVR(epsilon=1,C=1000)\n",
    "svrRBF.fit(X_train.values,Y_train.values)\n",
    "predict=svrRBF.predict(X_test.values)\n",
    "Oscore(Y_test.values,predict)"
   ]
  },
  {
   "cell_type": "code",
   "execution_count": 13,
   "metadata": {
    "ExecuteTime": {
     "end_time": "2019-01-08T08:27:28.658564Z",
     "start_time": "2019-01-08T08:27:28.474935Z"
    }
   },
   "outputs": [],
   "source": [
    "svr_error_rbf=[]\n",
    "svr_weight_rbf=[]\n",
    "for k in range(11):\n",
    "    X_train, X_test, Y_train, Y_test=train_test_split(X,Y1,test_size=0.1,random_state=k)\n",
    "    svrRBF=SVR(epsilon=1,C=1000)\n",
    "    svrRBF.fit(X_train.values,Y_train.values)\n",
    "    predict=svrRBF.predict(X_test.values)\n",
    "    a=Oscore(Y_test.values,predict)\n",
    "    #error变量拿到每一次的绝对误差率\n",
    "    svr_error_rbf.append(a)"
   ]
  },
  {
   "cell_type": "code",
   "execution_count": 16,
   "metadata": {
    "ExecuteTime": {
     "end_time": "2019-01-08T08:27:59.591793Z",
     "start_time": "2019-01-08T08:27:59.587775Z"
    }
   },
   "outputs": [
    {
     "data": {
      "text/plain": [
       "[0.3218981449280638,\n",
       " 0.5584491260075835,\n",
       " 0.35326478608386874,\n",
       " 0.5280030163189763,\n",
       " 0.47654117425448694,\n",
       " 0.484158724720277,\n",
       " 0.4616499335929097,\n",
       " 0.3767595676826212,\n",
       " 0.5184295979626241,\n",
       " 0.5021957012096063,\n",
       " 0.3527949274356714]"
      ]
     },
     "execution_count": 16,
     "metadata": {},
     "output_type": "execute_result"
    }
   ],
   "source": [
    "svr_error_rbf"
   ]
  },
  {
   "cell_type": "code",
   "execution_count": 59,
   "metadata": {},
   "outputs": [
    {
     "data": {
      "text/plain": [
       "GridSearchCV(cv=KFold(n_splits=10, random_state=77, shuffle=False),\n",
       "       error_score='raise',\n",
       "       estimator=SVR(C=1.0, cache_size=200, coef0=0.0, degree=3, epsilon=0.1, gamma='auto',\n",
       "  kernel='rbf', max_iter=-1, shrinking=True, tol=0.001, verbose=False),\n",
       "       fit_params=None, iid=True, n_jobs=1,\n",
       "       param_grid={'epsilon': [1.0, 0.1, 0.01, 0.001], 'C': [0.1, 1.0, 0.01, 10]},\n",
       "       pre_dispatch='2*n_jobs', refit=True, return_train_score='warn',\n",
       "       scoring=None, verbose=0)"
      ]
     },
     "execution_count": 59,
     "metadata": {},
     "output_type": "execute_result"
    }
   ],
   "source": [
    "svrRBF=SVR()\n",
    "grid_search = GridSearchCV(svrRBF, param_grid={'epsilon':[1.0, 0.1, 0.01, 0.001], \n",
    "                                               'C':[0.1, 1.0, 0.01, 10]},cv=kf)\n",
    "grid_search.fit(X_train.values,Y_train.values)"
   ]
  },
  {
   "cell_type": "code",
   "execution_count": 38,
   "metadata": {
    "ExecuteTime": {
     "end_time": "2018-12-29T02:05:56.604868Z",
     "start_time": "2018-12-29T02:05:56.575848Z"
    },
    "scrolled": false
   },
   "outputs": [
    {
     "data": {
      "text/html": [
       "<div>\n",
       "<style scoped>\n",
       "    .dataframe tbody tr th:only-of-type {\n",
       "        vertical-align: middle;\n",
       "    }\n",
       "\n",
       "    .dataframe tbody tr th {\n",
       "        vertical-align: top;\n",
       "    }\n",
       "\n",
       "    .dataframe thead th {\n",
       "        text-align: right;\n",
       "    }\n",
       "</style>\n",
       "<table border=\"1\" class=\"dataframe\">\n",
       "  <thead>\n",
       "    <tr style=\"text-align: right;\">\n",
       "      <th></th>\n",
       "      <th>H&amp;M</th>\n",
       "      <th>miniso$名创优品</th>\n",
       "      <th>餐饮$吃喝</th>\n",
       "      <th>超市</th>\n",
       "      <th>服装</th>\n",
       "      <th>家居</th>\n",
       "      <th>酒店</th>\n",
       "      <th>美容</th>\n",
       "      <th>屈臣氏</th>\n",
       "      <th>商场$购物</th>\n",
       "      <th>...</th>\n",
       "      <th>店铺类型_2</th>\n",
       "      <th>店铺类型_3</th>\n",
       "      <th>店铺类型_4</th>\n",
       "      <th>地区_1</th>\n",
       "      <th>地区_2</th>\n",
       "      <th>地区_3</th>\n",
       "      <th>地区_4</th>\n",
       "      <th>地区_5</th>\n",
       "      <th>地区_6</th>\n",
       "      <th>地区_7</th>\n",
       "    </tr>\n",
       "  </thead>\n",
       "  <tbody>\n",
       "    <tr>\n",
       "      <th>0</th>\n",
       "      <td>-0.048101</td>\n",
       "      <td>0.048428</td>\n",
       "      <td>0.042641</td>\n",
       "      <td>0.004948</td>\n",
       "      <td>0.094560</td>\n",
       "      <td>0.035027</td>\n",
       "      <td>0.065989</td>\n",
       "      <td>-0.023757</td>\n",
       "      <td>-0.101750</td>\n",
       "      <td>-0.097005</td>\n",
       "      <td>...</td>\n",
       "      <td>0.032266</td>\n",
       "      <td>-0.069603</td>\n",
       "      <td>0.179919</td>\n",
       "      <td>-0.174700</td>\n",
       "      <td>0.134699</td>\n",
       "      <td>0.103448</td>\n",
       "      <td>-0.052138</td>\n",
       "      <td>0.098881</td>\n",
       "      <td>-0.157505</td>\n",
       "      <td>0.047316</td>\n",
       "    </tr>\n",
       "    <tr>\n",
       "      <th>1</th>\n",
       "      <td>-0.031043</td>\n",
       "      <td>0.051455</td>\n",
       "      <td>0.024906</td>\n",
       "      <td>0.027188</td>\n",
       "      <td>0.019961</td>\n",
       "      <td>0.028627</td>\n",
       "      <td>0.067651</td>\n",
       "      <td>-0.032102</td>\n",
       "      <td>-0.109811</td>\n",
       "      <td>-0.088579</td>\n",
       "      <td>...</td>\n",
       "      <td>0.037493</td>\n",
       "      <td>-0.090764</td>\n",
       "      <td>0.164341</td>\n",
       "      <td>-0.171504</td>\n",
       "      <td>0.084123</td>\n",
       "      <td>0.078658</td>\n",
       "      <td>-0.033424</td>\n",
       "      <td>0.112657</td>\n",
       "      <td>-0.106117</td>\n",
       "      <td>0.035607</td>\n",
       "    </tr>\n",
       "    <tr>\n",
       "      <th>2</th>\n",
       "      <td>-0.036104</td>\n",
       "      <td>0.074938</td>\n",
       "      <td>0.047480</td>\n",
       "      <td>0.051766</td>\n",
       "      <td>0.088611</td>\n",
       "      <td>0.042862</td>\n",
       "      <td>0.066896</td>\n",
       "      <td>-0.065505</td>\n",
       "      <td>-0.104045</td>\n",
       "      <td>-0.097212</td>\n",
       "      <td>...</td>\n",
       "      <td>0.054289</td>\n",
       "      <td>-0.081559</td>\n",
       "      <td>0.128291</td>\n",
       "      <td>-0.180572</td>\n",
       "      <td>0.093459</td>\n",
       "      <td>0.133973</td>\n",
       "      <td>-0.085512</td>\n",
       "      <td>0.151992</td>\n",
       "      <td>-0.137394</td>\n",
       "      <td>0.024054</td>\n",
       "    </tr>\n",
       "    <tr>\n",
       "      <th>3</th>\n",
       "      <td>-0.092068</td>\n",
       "      <td>0.034100</td>\n",
       "      <td>0.084456</td>\n",
       "      <td>-0.009263</td>\n",
       "      <td>0.057464</td>\n",
       "      <td>0.034798</td>\n",
       "      <td>0.055442</td>\n",
       "      <td>-0.024574</td>\n",
       "      <td>-0.081752</td>\n",
       "      <td>-0.096607</td>\n",
       "      <td>...</td>\n",
       "      <td>-0.003170</td>\n",
       "      <td>-0.023260</td>\n",
       "      <td>0.185206</td>\n",
       "      <td>-0.182276</td>\n",
       "      <td>0.160817</td>\n",
       "      <td>0.074615</td>\n",
       "      <td>-0.069581</td>\n",
       "      <td>0.134472</td>\n",
       "      <td>-0.134335</td>\n",
       "      <td>0.016289</td>\n",
       "    </tr>\n",
       "    <tr>\n",
       "      <th>4</th>\n",
       "      <td>-0.048219</td>\n",
       "      <td>0.053500</td>\n",
       "      <td>0.005016</td>\n",
       "      <td>0.001962</td>\n",
       "      <td>0.051974</td>\n",
       "      <td>0.024119</td>\n",
       "      <td>0.081415</td>\n",
       "      <td>-0.036702</td>\n",
       "      <td>-0.080037</td>\n",
       "      <td>-0.085436</td>\n",
       "      <td>...</td>\n",
       "      <td>0.052408</td>\n",
       "      <td>-0.034606</td>\n",
       "      <td>0.137099</td>\n",
       "      <td>-0.201736</td>\n",
       "      <td>0.103659</td>\n",
       "      <td>0.059790</td>\n",
       "      <td>-0.038764</td>\n",
       "      <td>0.171780</td>\n",
       "      <td>-0.138290</td>\n",
       "      <td>0.043560</td>\n",
       "    </tr>\n",
       "    <tr>\n",
       "      <th>5</th>\n",
       "      <td>-0.043093</td>\n",
       "      <td>0.056073</td>\n",
       "      <td>0.033628</td>\n",
       "      <td>0.009868</td>\n",
       "      <td>0.065257</td>\n",
       "      <td>0.041428</td>\n",
       "      <td>0.068042</td>\n",
       "      <td>-0.073127</td>\n",
       "      <td>-0.089045</td>\n",
       "      <td>-0.054811</td>\n",
       "      <td>...</td>\n",
       "      <td>0.076801</td>\n",
       "      <td>-0.078780</td>\n",
       "      <td>0.156483</td>\n",
       "      <td>-0.163812</td>\n",
       "      <td>0.116063</td>\n",
       "      <td>0.027025</td>\n",
       "      <td>-0.043478</td>\n",
       "      <td>0.090865</td>\n",
       "      <td>-0.124336</td>\n",
       "      <td>0.097672</td>\n",
       "    </tr>\n",
       "    <tr>\n",
       "      <th>6</th>\n",
       "      <td>-0.023726</td>\n",
       "      <td>0.016171</td>\n",
       "      <td>0.033200</td>\n",
       "      <td>0.045856</td>\n",
       "      <td>-0.025195</td>\n",
       "      <td>0.040379</td>\n",
       "      <td>0.030925</td>\n",
       "      <td>0.026438</td>\n",
       "      <td>-0.091962</td>\n",
       "      <td>-0.078895</td>\n",
       "      <td>...</td>\n",
       "      <td>0.016612</td>\n",
       "      <td>-0.054337</td>\n",
       "      <td>0.164445</td>\n",
       "      <td>-0.147474</td>\n",
       "      <td>0.112124</td>\n",
       "      <td>0.102729</td>\n",
       "      <td>-0.096228</td>\n",
       "      <td>0.083708</td>\n",
       "      <td>-0.116460</td>\n",
       "      <td>0.061600</td>\n",
       "    </tr>\n",
       "    <tr>\n",
       "      <th>7</th>\n",
       "      <td>-0.032895</td>\n",
       "      <td>0.043678</td>\n",
       "      <td>0.070977</td>\n",
       "      <td>-0.047397</td>\n",
       "      <td>0.029875</td>\n",
       "      <td>0.044579</td>\n",
       "      <td>0.047559</td>\n",
       "      <td>-0.021861</td>\n",
       "      <td>-0.150678</td>\n",
       "      <td>-0.064602</td>\n",
       "      <td>...</td>\n",
       "      <td>0.016015</td>\n",
       "      <td>-0.075418</td>\n",
       "      <td>0.206697</td>\n",
       "      <td>-0.148792</td>\n",
       "      <td>0.084362</td>\n",
       "      <td>0.092017</td>\n",
       "      <td>-0.066424</td>\n",
       "      <td>0.113564</td>\n",
       "      <td>-0.132459</td>\n",
       "      <td>0.057732</td>\n",
       "    </tr>\n",
       "    <tr>\n",
       "      <th>8</th>\n",
       "      <td>-0.034847</td>\n",
       "      <td>0.018016</td>\n",
       "      <td>0.032986</td>\n",
       "      <td>0.046557</td>\n",
       "      <td>0.095781</td>\n",
       "      <td>0.048127</td>\n",
       "      <td>0.059213</td>\n",
       "      <td>-0.055802</td>\n",
       "      <td>-0.110821</td>\n",
       "      <td>-0.065237</td>\n",
       "      <td>...</td>\n",
       "      <td>0.087619</td>\n",
       "      <td>-0.074460</td>\n",
       "      <td>0.105172</td>\n",
       "      <td>-0.158687</td>\n",
       "      <td>0.104652</td>\n",
       "      <td>0.082052</td>\n",
       "      <td>-0.099087</td>\n",
       "      <td>0.112980</td>\n",
       "      <td>-0.112386</td>\n",
       "      <td>0.070477</td>\n",
       "    </tr>\n",
       "    <tr>\n",
       "      <th>9</th>\n",
       "      <td>-0.062267</td>\n",
       "      <td>0.031921</td>\n",
       "      <td>-0.000121</td>\n",
       "      <td>-0.014221</td>\n",
       "      <td>0.057704</td>\n",
       "      <td>0.037914</td>\n",
       "      <td>0.067279</td>\n",
       "      <td>-0.008839</td>\n",
       "      <td>-0.082690</td>\n",
       "      <td>-0.065757</td>\n",
       "      <td>...</td>\n",
       "      <td>0.111909</td>\n",
       "      <td>-0.084585</td>\n",
       "      <td>0.150492</td>\n",
       "      <td>-0.150655</td>\n",
       "      <td>0.079158</td>\n",
       "      <td>0.093654</td>\n",
       "      <td>-0.097471</td>\n",
       "      <td>0.162244</td>\n",
       "      <td>-0.124606</td>\n",
       "      <td>0.037676</td>\n",
       "    </tr>\n",
       "    <tr>\n",
       "      <th>10</th>\n",
       "      <td>-0.032249</td>\n",
       "      <td>0.041381</td>\n",
       "      <td>0.018402</td>\n",
       "      <td>0.012658</td>\n",
       "      <td>0.089755</td>\n",
       "      <td>0.048471</td>\n",
       "      <td>0.069567</td>\n",
       "      <td>-0.046772</td>\n",
       "      <td>-0.093270</td>\n",
       "      <td>-0.086407</td>\n",
       "      <td>...</td>\n",
       "      <td>0.056965</td>\n",
       "      <td>-0.025584</td>\n",
       "      <td>0.187496</td>\n",
       "      <td>-0.170032</td>\n",
       "      <td>0.102246</td>\n",
       "      <td>0.104962</td>\n",
       "      <td>-0.039300</td>\n",
       "      <td>0.117768</td>\n",
       "      <td>-0.156072</td>\n",
       "      <td>0.040428</td>\n",
       "    </tr>\n",
       "  </tbody>\n",
       "</table>\n",
       "<p>11 rows × 66 columns</p>\n",
       "</div>"
      ],
      "text/plain": [
       "         H&M  miniso$名创优品     餐饮$吃喝        超市        服装        家居        酒店  \\\n",
       "0  -0.048101     0.048428  0.042641  0.004948  0.094560  0.035027  0.065989   \n",
       "1  -0.031043     0.051455  0.024906  0.027188  0.019961  0.028627  0.067651   \n",
       "2  -0.036104     0.074938  0.047480  0.051766  0.088611  0.042862  0.066896   \n",
       "3  -0.092068     0.034100  0.084456 -0.009263  0.057464  0.034798  0.055442   \n",
       "4  -0.048219     0.053500  0.005016  0.001962  0.051974  0.024119  0.081415   \n",
       "5  -0.043093     0.056073  0.033628  0.009868  0.065257  0.041428  0.068042   \n",
       "6  -0.023726     0.016171  0.033200  0.045856 -0.025195  0.040379  0.030925   \n",
       "7  -0.032895     0.043678  0.070977 -0.047397  0.029875  0.044579  0.047559   \n",
       "8  -0.034847     0.018016  0.032986  0.046557  0.095781  0.048127  0.059213   \n",
       "9  -0.062267     0.031921 -0.000121 -0.014221  0.057704  0.037914  0.067279   \n",
       "10 -0.032249     0.041381  0.018402  0.012658  0.089755  0.048471  0.069567   \n",
       "\n",
       "          美容       屈臣氏     商场$购物    ...       店铺类型_2    店铺类型_3    店铺类型_4  \\\n",
       "0  -0.023757 -0.101750 -0.097005    ...     0.032266 -0.069603  0.179919   \n",
       "1  -0.032102 -0.109811 -0.088579    ...     0.037493 -0.090764  0.164341   \n",
       "2  -0.065505 -0.104045 -0.097212    ...     0.054289 -0.081559  0.128291   \n",
       "3  -0.024574 -0.081752 -0.096607    ...    -0.003170 -0.023260  0.185206   \n",
       "4  -0.036702 -0.080037 -0.085436    ...     0.052408 -0.034606  0.137099   \n",
       "5  -0.073127 -0.089045 -0.054811    ...     0.076801 -0.078780  0.156483   \n",
       "6   0.026438 -0.091962 -0.078895    ...     0.016612 -0.054337  0.164445   \n",
       "7  -0.021861 -0.150678 -0.064602    ...     0.016015 -0.075418  0.206697   \n",
       "8  -0.055802 -0.110821 -0.065237    ...     0.087619 -0.074460  0.105172   \n",
       "9  -0.008839 -0.082690 -0.065757    ...     0.111909 -0.084585  0.150492   \n",
       "10 -0.046772 -0.093270 -0.086407    ...     0.056965 -0.025584  0.187496   \n",
       "\n",
       "        地区_1      地区_2      地区_3      地区_4      地区_5      地区_6      地区_7  \n",
       "0  -0.174700  0.134699  0.103448 -0.052138  0.098881 -0.157505  0.047316  \n",
       "1  -0.171504  0.084123  0.078658 -0.033424  0.112657 -0.106117  0.035607  \n",
       "2  -0.180572  0.093459  0.133973 -0.085512  0.151992 -0.137394  0.024054  \n",
       "3  -0.182276  0.160817  0.074615 -0.069581  0.134472 -0.134335  0.016289  \n",
       "4  -0.201736  0.103659  0.059790 -0.038764  0.171780 -0.138290  0.043560  \n",
       "5  -0.163812  0.116063  0.027025 -0.043478  0.090865 -0.124336  0.097672  \n",
       "6  -0.147474  0.112124  0.102729 -0.096228  0.083708 -0.116460  0.061600  \n",
       "7  -0.148792  0.084362  0.092017 -0.066424  0.113564 -0.132459  0.057732  \n",
       "8  -0.158687  0.104652  0.082052 -0.099087  0.112980 -0.112386  0.070477  \n",
       "9  -0.150655  0.079158  0.093654 -0.097471  0.162244 -0.124606  0.037676  \n",
       "10 -0.170032  0.102246  0.104962 -0.039300  0.117768 -0.156072  0.040428  \n",
       "\n",
       "[11 rows x 66 columns]"
      ]
     },
     "execution_count": 38,
     "metadata": {},
     "output_type": "execute_result"
    }
   ],
   "source": [
    "df=pd.DataFrame(feature_weightrs)\n",
    "df"
   ]
  },
  {
   "cell_type": "code",
   "execution_count": 39,
   "metadata": {
    "ExecuteTime": {
     "end_time": "2018-12-29T02:06:23.618640Z",
     "start_time": "2018-12-29T02:06:23.321354Z"
    }
   },
   "outputs": [],
   "source": [
    "df.to_excel('feature_weightrs.xls')"
   ]
  },
  {
   "cell_type": "markdown",
   "metadata": {},
   "source": [
    "# 决策树"
   ]
  },
  {
   "cell_type": "code",
   "execution_count": 40,
   "metadata": {
    "ExecuteTime": {
     "end_time": "2019-01-02T03:23:46.844242Z",
     "start_time": "2019-01-02T03:23:46.840240Z"
    }
   },
   "outputs": [],
   "source": [
    "from sklearn.tree import DecisionTreeRegressor"
   ]
  },
  {
   "cell_type": "markdown",
   "metadata": {},
   "source": [
    "## 原始数据"
   ]
  },
  {
   "cell_type": "code",
   "execution_count": 43,
   "metadata": {
    "ExecuteTime": {
     "end_time": "2019-01-02T03:28:25.842793Z",
     "start_time": "2019-01-02T03:28:25.398311Z"
    }
   },
   "outputs": [],
   "source": [
    "errort=[]\n",
    "weightt=[]\n",
    "for k in range(11):\n",
    "    X_train, X_test, Y_train, Y_test=train_test_split(X,Y1,test_size=0.1,random_state=k)\n",
    "    #LinearRegression\n",
    "    tree=DecisionTreeRegressor(criterion='mae',random_state=7)\n",
    "    #原始数据训练\n",
    "    tree.fit(X_train.values,Y_train.values)\n",
    "    predict=tree.predict(X_test.values)\n",
    "    #error变量拿到每一次的绝对误差率\n",
    "    errort.append(np.mean(np.abs(predict-Y_test.values)/Y_test.values))"
   ]
  },
  {
   "cell_type": "code",
   "execution_count": 44,
   "metadata": {
    "ExecuteTime": {
     "end_time": "2019-01-02T03:28:26.540246Z",
     "start_time": "2019-01-02T03:28:26.536244Z"
    }
   },
   "outputs": [
    {
     "data": {
      "text/plain": [
       "[0.6974546920862864,\n",
       " 0.4771468660683616,\n",
       " 0.4543803063198256,\n",
       " 0.7085717553984888,\n",
       " 0.6004881324008636,\n",
       " 0.6453363058255934,\n",
       " 0.6067024683887845,\n",
       " 0.4622725198004292,\n",
       " 0.4260655044196838,\n",
       " 0.4704792719194784,\n",
       " 0.4681601180073098]"
      ]
     },
     "execution_count": 44,
     "metadata": {},
     "output_type": "execute_result"
    }
   ],
   "source": [
    "errort"
   ]
  },
  {
   "cell_type": "code",
   "execution_count": 46,
   "metadata": {
    "ExecuteTime": {
     "end_time": "2019-01-02T03:40:55.107175Z",
     "start_time": "2019-01-02T03:40:55.029108Z"
    }
   },
   "outputs": [],
   "source": [
    "errorts=[]\n",
    "weightts=[]\n",
    "for k in range(11):\n",
    "    x_train, x_test, y_train, y_test=train_test_split(x,y1,test_size=0.1,random_state=k)\n",
    "    \n",
    "    tree=DecisionTreeRegressor(random_state=7)\n",
    "    #原始数据训练\n",
    "    tree.fit(x_train.values,y_train.values)\n",
    "    predict=tree.predict(x_test.values)\n",
    "    #error变量拿到每一次的绝对误差率\n",
    "    errorts.append(np.mean(np.abs(predict*9459.408985-y_test.values*9459.408985)/(y_test.values*9459.408985+16508.77023)))"
   ]
  },
  {
   "cell_type": "code",
   "execution_count": 47,
   "metadata": {
    "ExecuteTime": {
     "end_time": "2019-01-02T03:40:58.938254Z",
     "start_time": "2019-01-02T03:40:58.932237Z"
    }
   },
   "outputs": [
    {
     "data": {
      "text/plain": [
       "[0.4628244668051662,\n",
       " 0.41703488551999063,\n",
       " 0.6226004310967654,\n",
       " 0.6629817122435653,\n",
       " 0.5280714983611273,\n",
       " 0.42848571064257435,\n",
       " 0.5109412046037826,\n",
       " 0.5544077708139759,\n",
       " 0.39103017007075946,\n",
       " 0.3903681504516849,\n",
       " 0.49044162042045086]"
      ]
     },
     "execution_count": 47,
     "metadata": {},
     "output_type": "execute_result"
    }
   ],
   "source": [
    "errorts"
   ]
  },
  {
   "cell_type": "markdown",
   "metadata": {},
   "source": [
    "# 一线城市"
   ]
  },
  {
   "cell_type": "code",
   "execution_count": 49,
   "metadata": {
    "ExecuteTime": {
     "end_time": "2019-01-03T01:21:02.453721Z",
     "start_time": "2019-01-03T01:21:02.448217Z"
    }
   },
   "outputs": [],
   "source": [
    "city1=pro_df.loc[pro_df['城市级别_1']==1]"
   ]
  },
  {
   "cell_type": "code",
   "execution_count": 50,
   "metadata": {
    "ExecuteTime": {
     "end_time": "2019-01-03T01:21:22.115737Z",
     "start_time": "2019-01-03T01:21:22.094723Z"
    }
   },
   "outputs": [],
   "source": [
    "y1=city1['日均销售额']\n",
    "x=city1.drop(columns=['日均销售额'])\n",
    "\n",
    "#训练与测试集的分离\n",
    "x_train, x_test, y_train, y_test=train_test_split(x,y1,test_size=0.1,random_state=10)"
   ]
  },
  {
   "cell_type": "code",
   "execution_count": 51,
   "metadata": {
    "ExecuteTime": {
     "end_time": "2019-01-03T01:22:24.790289Z",
     "start_time": "2019-01-03T01:22:24.175857Z"
    }
   },
   "outputs": [],
   "source": [
    "errorc1=[]\n",
    "weightc1=[]\n",
    "for k in range(11):\n",
    "    x_train, x_test, y_train, y_test=train_test_split(x,y1,test_size=0.1,random_state=k)\n",
    "    \n",
    "    ridge=RidgeCV(cv=kf)\n",
    "    #原始数据训练\n",
    "    ridge.fit(x_train.values,y_train.values)\n",
    "    predict=ridge.predict(x_test.values)\n",
    "    #error变量拿到每一次的绝对误差率\n",
    "    errorc1.append(np.mean(np.abs(predict*9459.408985-y_test.values*9459.408985)/(y_test.values*9459.408985+16508.77023)))\n",
    "    dicc1={}\n",
    "    for i,j in zip(x_train.columns,ridge.coef_):\n",
    "        dicc1[i]=j\n",
    "    #weight拿到每一次的特征权重\n",
    "    weightc1.append(dicc1)\n",
    "#feature_weight是每个特征每次的权重\n",
    "feature_weightc1={}\n",
    "for j in weightc1[0].keys():\n",
    "    a=[]\n",
    "    for i in weightc1:\n",
    "        a.append(i[j])\n",
    "    feature_weightc1[j]=a"
   ]
  },
  {
   "cell_type": "code",
   "execution_count": 54,
   "metadata": {
    "ExecuteTime": {
     "end_time": "2019-01-03T01:23:02.290396Z",
     "start_time": "2019-01-03T01:23:02.286392Z"
    }
   },
   "outputs": [
    {
     "data": {
      "text/plain": [
       "0.4039284249885929"
      ]
     },
     "execution_count": 54,
     "metadata": {},
     "output_type": "execute_result"
    }
   ],
   "source": [
    "np.array(errorc1).mean()"
   ]
  },
  {
   "cell_type": "code",
   "execution_count": 55,
   "metadata": {
    "ExecuteTime": {
     "end_time": "2019-01-03T01:24:17.316055Z",
     "start_time": "2019-01-03T01:24:17.311552Z"
    }
   },
   "outputs": [
    {
     "data": {
      "text/plain": [
       "[0.287857898397223,\n",
       " 0.557422618517479,\n",
       " 0.6506538760074779,\n",
       " 0.3661564765141154,\n",
       " 0.34505796428948676,\n",
       " 0.3835804096707737,\n",
       " 0.4639846407293097,\n",
       " 0.49851276305641257,\n",
       " 0.18554322797004139,\n",
       " 0.2981164140168442,\n",
       " 0.40632638570535773]"
      ]
     },
     "execution_count": 55,
     "metadata": {},
     "output_type": "execute_result"
    }
   ],
   "source": [
    "errorc1"
   ]
  },
  {
   "cell_type": "markdown",
   "metadata": {},
   "source": [
    "# XGBOOST"
   ]
  },
  {
   "cell_type": "markdown",
   "metadata": {},
   "source": [
    "# adaboost"
   ]
  },
  {
   "cell_type": "code",
   "execution_count": 18,
   "metadata": {
    "ExecuteTime": {
     "end_time": "2019-01-08T08:34:22.742137Z",
     "start_time": "2019-01-08T08:34:22.739638Z"
    }
   },
   "outputs": [],
   "source": [
    "from sklearn.ensemble import AdaBoostRegressor"
   ]
  },
  {
   "cell_type": "code",
   "execution_count": null,
   "metadata": {},
   "outputs": [],
   "source": [
    "ada=AdaBoostRegressor()"
   ]
  },
  {
   "cell_type": "markdown",
   "metadata": {},
   "source": [
    "# 实际偏差"
   ]
  },
  {
   "cell_type": "code",
   "execution_count": 93,
   "metadata": {
    "ExecuteTime": {
     "end_time": "2019-01-03T06:40:17.866909Z",
     "start_time": "2019-01-03T06:40:17.862906Z"
    }
   },
   "outputs": [],
   "source": [
    "result=ridge.predict(x)"
   ]
  },
  {
   "cell_type": "code",
   "execution_count": 110,
   "metadata": {
    "ExecuteTime": {
     "end_time": "2019-01-03T06:55:47.808948Z",
     "start_time": "2019-01-03T06:55:47.804960Z"
    }
   },
   "outputs": [],
   "source": [
    "ERROR=(result*9459.408985-y1.values*9459.408985)/(y1.values*9459.408985+16508.77023)"
   ]
  },
  {
   "cell_type": "code",
   "execution_count": 100,
   "metadata": {
    "ExecuteTime": {
     "end_time": "2019-01-03T06:42:17.547490Z",
     "start_time": "2019-01-03T06:42:17.542486Z"
    }
   },
   "outputs": [
    {
     "data": {
      "text/plain": [
       "343"
      ]
     },
     "execution_count": 100,
     "metadata": {},
     "output_type": "execute_result"
    }
   ],
   "source": [
    "import matplotlib.pyplot as plt\n"
   ]
  },
  {
   "cell_type": "code",
   "execution_count": 111,
   "metadata": {
    "ExecuteTime": {
     "end_time": "2019-01-03T06:56:08.510565Z",
     "start_time": "2019-01-03T06:56:07.810057Z"
    }
   },
   "outputs": [],
   "source": [
    "ERROR=[]\n",
    "weightrs=[]\n",
    "for k in range(11):\n",
    "    x_train, x_test, y_train, y_test=train_test_split(x,y1,test_size=0.1,random_state=k)\n",
    "    \n",
    "    ridge=RidgeCV(cv=kf)\n",
    "    #原始数据训练\n",
    "    ridge.fit(x_train.values,y_train.values)\n",
    "    result=ridge.predict(x)\n",
    "    #error变量拿到每一次的绝对误差率\n",
    "    ERROR.append((result*9459.408985-y1.values*9459.408985)/(y1.values*9459.408985+16508.77023))"
   ]
  },
  {
   "cell_type": "code",
   "execution_count": 112,
   "metadata": {
    "ExecuteTime": {
     "end_time": "2019-01-03T06:56:10.583548Z",
     "start_time": "2019-01-03T06:56:10.555530Z"
    }
   },
   "outputs": [],
   "source": [
    "pd.DataFrame(ERROR,columns=x.index).to_csv('ERROR.csv')"
   ]
  },
  {
   "cell_type": "code",
   "execution_count": 121,
   "metadata": {
    "ExecuteTime": {
     "end_time": "2019-01-03T07:04:08.593596Z",
     "start_time": "2019-01-03T07:04:08.564573Z"
    },
    "scrolled": true
   },
   "outputs": [
    {
     "data": {
      "text/html": [
       "<div>\n",
       "<style scoped>\n",
       "    .dataframe tbody tr th:only-of-type {\n",
       "        vertical-align: middle;\n",
       "    }\n",
       "\n",
       "    .dataframe tbody tr th {\n",
       "        vertical-align: top;\n",
       "    }\n",
       "\n",
       "    .dataframe thead th {\n",
       "        text-align: right;\n",
       "    }\n",
       "</style>\n",
       "<table border=\"1\" class=\"dataframe\">\n",
       "  <thead>\n",
       "    <tr style=\"text-align: right;\">\n",
       "      <th></th>\n",
       "      <th>0</th>\n",
       "    </tr>\n",
       "  </thead>\n",
       "  <tbody>\n",
       "    <tr>\n",
       "      <th>0</th>\n",
       "      <td>NM000155</td>\n",
       "    </tr>\n",
       "    <tr>\n",
       "      <th>1</th>\n",
       "      <td>NM000125</td>\n",
       "    </tr>\n",
       "    <tr>\n",
       "      <th>2</th>\n",
       "      <td>NM000316</td>\n",
       "    </tr>\n",
       "    <tr>\n",
       "      <th>3</th>\n",
       "      <td>NM000237</td>\n",
       "    </tr>\n",
       "    <tr>\n",
       "      <th>4</th>\n",
       "      <td>NM000228</td>\n",
       "    </tr>\n",
       "    <tr>\n",
       "      <th>5</th>\n",
       "      <td>NM000103</td>\n",
       "    </tr>\n",
       "    <tr>\n",
       "      <th>6</th>\n",
       "      <td>NM000110</td>\n",
       "    </tr>\n",
       "    <tr>\n",
       "      <th>7</th>\n",
       "      <td>NM000295</td>\n",
       "    </tr>\n",
       "    <tr>\n",
       "      <th>8</th>\n",
       "      <td>NM000150</td>\n",
       "    </tr>\n",
       "    <tr>\n",
       "      <th>9</th>\n",
       "      <td>NM000040</td>\n",
       "    </tr>\n",
       "    <tr>\n",
       "      <th>10</th>\n",
       "      <td>NM000031</td>\n",
       "    </tr>\n",
       "    <tr>\n",
       "      <th>11</th>\n",
       "      <td>NM000074</td>\n",
       "    </tr>\n",
       "    <tr>\n",
       "      <th>12</th>\n",
       "      <td>NM000119</td>\n",
       "    </tr>\n",
       "    <tr>\n",
       "      <th>13</th>\n",
       "      <td>NM000297</td>\n",
       "    </tr>\n",
       "    <tr>\n",
       "      <th>14</th>\n",
       "      <td>NM000199</td>\n",
       "    </tr>\n",
       "    <tr>\n",
       "      <th>15</th>\n",
       "      <td>NM000024</td>\n",
       "    </tr>\n",
       "    <tr>\n",
       "      <th>16</th>\n",
       "      <td>NM000343</td>\n",
       "    </tr>\n",
       "    <tr>\n",
       "      <th>17</th>\n",
       "      <td>NM000222</td>\n",
       "    </tr>\n",
       "    <tr>\n",
       "      <th>18</th>\n",
       "      <td>NM000003</td>\n",
       "    </tr>\n",
       "    <tr>\n",
       "      <th>19</th>\n",
       "      <td>NM000169</td>\n",
       "    </tr>\n",
       "    <tr>\n",
       "      <th>20</th>\n",
       "      <td>NM000007</td>\n",
       "    </tr>\n",
       "    <tr>\n",
       "      <th>21</th>\n",
       "      <td>NM000217</td>\n",
       "    </tr>\n",
       "    <tr>\n",
       "      <th>22</th>\n",
       "      <td>NM000138</td>\n",
       "    </tr>\n",
       "    <tr>\n",
       "      <th>23</th>\n",
       "      <td>NM000414</td>\n",
       "    </tr>\n",
       "    <tr>\n",
       "      <th>24</th>\n",
       "      <td>NM000094</td>\n",
       "    </tr>\n",
       "    <tr>\n",
       "      <th>25</th>\n",
       "      <td>NM000318</td>\n",
       "    </tr>\n",
       "    <tr>\n",
       "      <th>26</th>\n",
       "      <td>NM000017</td>\n",
       "    </tr>\n",
       "    <tr>\n",
       "      <th>27</th>\n",
       "      <td>NM000332</td>\n",
       "    </tr>\n",
       "    <tr>\n",
       "      <th>28</th>\n",
       "      <td>NM000202</td>\n",
       "    </tr>\n",
       "    <tr>\n",
       "      <th>29</th>\n",
       "      <td>NM000184</td>\n",
       "    </tr>\n",
       "    <tr>\n",
       "      <th>30</th>\n",
       "      <td>NM000336</td>\n",
       "    </tr>\n",
       "    <tr>\n",
       "      <th>31</th>\n",
       "      <td>NM000211</td>\n",
       "    </tr>\n",
       "    <tr>\n",
       "      <th>32</th>\n",
       "      <td>NM000140</td>\n",
       "    </tr>\n",
       "    <tr>\n",
       "      <th>33</th>\n",
       "      <td>NM000372</td>\n",
       "    </tr>\n",
       "    <tr>\n",
       "      <th>34</th>\n",
       "      <td>NM000337</td>\n",
       "    </tr>\n",
       "    <tr>\n",
       "      <th>35</th>\n",
       "      <td>NM000289</td>\n",
       "    </tr>\n",
       "    <tr>\n",
       "      <th>36</th>\n",
       "      <td>NM000272</td>\n",
       "    </tr>\n",
       "    <tr>\n",
       "      <th>37</th>\n",
       "      <td>NM000156</td>\n",
       "    </tr>\n",
       "    <tr>\n",
       "      <th>38</th>\n",
       "      <td>NM000149</td>\n",
       "    </tr>\n",
       "    <tr>\n",
       "      <th>39</th>\n",
       "      <td>NM000253</td>\n",
       "    </tr>\n",
       "    <tr>\n",
       "      <th>40</th>\n",
       "      <td>NM000268</td>\n",
       "    </tr>\n",
       "    <tr>\n",
       "      <th>41</th>\n",
       "      <td>NM000326</td>\n",
       "    </tr>\n",
       "    <tr>\n",
       "      <th>42</th>\n",
       "      <td>NM000029</td>\n",
       "    </tr>\n",
       "    <tr>\n",
       "      <th>43</th>\n",
       "      <td>NM000023</td>\n",
       "    </tr>\n",
       "    <tr>\n",
       "      <th>44</th>\n",
       "      <td>NM000235</td>\n",
       "    </tr>\n",
       "    <tr>\n",
       "      <th>45</th>\n",
       "      <td>NM000234</td>\n",
       "    </tr>\n",
       "    <tr>\n",
       "      <th>46</th>\n",
       "      <td>NM000312</td>\n",
       "    </tr>\n",
       "    <tr>\n",
       "      <th>47</th>\n",
       "      <td>NM000130</td>\n",
       "    </tr>\n",
       "    <tr>\n",
       "      <th>48</th>\n",
       "      <td>NM000163</td>\n",
       "    </tr>\n",
       "    <tr>\n",
       "      <th>49</th>\n",
       "      <td>NM000267</td>\n",
       "    </tr>\n",
       "    <tr>\n",
       "      <th>50</th>\n",
       "      <td>NM000242</td>\n",
       "    </tr>\n",
       "    <tr>\n",
       "      <th>51</th>\n",
       "      <td>NM000281</td>\n",
       "    </tr>\n",
       "    <tr>\n",
       "      <th>52</th>\n",
       "      <td>NM000274</td>\n",
       "    </tr>\n",
       "    <tr>\n",
       "      <th>53</th>\n",
       "      <td>NM000220</td>\n",
       "    </tr>\n",
       "    <tr>\n",
       "      <th>54</th>\n",
       "      <td>NM000360</td>\n",
       "    </tr>\n",
       "    <tr>\n",
       "      <th>55</th>\n",
       "      <td>NM000335</td>\n",
       "    </tr>\n",
       "  </tbody>\n",
       "</table>\n",
       "</div>"
      ],
      "text/plain": [
       "           0\n",
       "0   NM000155\n",
       "1   NM000125\n",
       "2   NM000316\n",
       "3   NM000237\n",
       "4   NM000228\n",
       "5   NM000103\n",
       "6   NM000110\n",
       "7   NM000295\n",
       "8   NM000150\n",
       "9   NM000040\n",
       "10  NM000031\n",
       "11  NM000074\n",
       "12  NM000119\n",
       "13  NM000297\n",
       "14  NM000199\n",
       "15  NM000024\n",
       "16  NM000343\n",
       "17  NM000222\n",
       "18  NM000003\n",
       "19  NM000169\n",
       "20  NM000007\n",
       "21  NM000217\n",
       "22  NM000138\n",
       "23  NM000414\n",
       "24  NM000094\n",
       "25  NM000318\n",
       "26  NM000017\n",
       "27  NM000332\n",
       "28  NM000202\n",
       "29  NM000184\n",
       "30  NM000336\n",
       "31  NM000211\n",
       "32  NM000140\n",
       "33  NM000372\n",
       "34  NM000337\n",
       "35  NM000289\n",
       "36  NM000272\n",
       "37  NM000156\n",
       "38  NM000149\n",
       "39  NM000253\n",
       "40  NM000268\n",
       "41  NM000326\n",
       "42  NM000029\n",
       "43  NM000023\n",
       "44  NM000235\n",
       "45  NM000234\n",
       "46  NM000312\n",
       "47  NM000130\n",
       "48  NM000163\n",
       "49  NM000267\n",
       "50  NM000242\n",
       "51  NM000281\n",
       "52  NM000274\n",
       "53  NM000220\n",
       "54  NM000360\n",
       "55  NM000335"
      ]
     },
     "execution_count": 121,
     "metadata": {},
     "output_type": "execute_result"
    }
   ],
   "source": [
    "pd.read_excel('ERROR.xls',sheet_name='Sheet1',header=None)"
   ]
  },
  {
   "cell_type": "markdown",
   "metadata": {},
   "source": [
    "# 去除异常的数据训练"
   ]
  },
  {
   "cell_type": "code",
   "execution_count": 123,
   "metadata": {
    "ExecuteTime": {
     "end_time": "2019-01-03T07:12:49.729431Z",
     "start_time": "2019-01-03T07:12:49.371646Z"
    }
   },
   "outputs": [],
   "source": [
    "df1=pd.read_excel('最终数据1125.xlsx',sheet_name='deleted',index_col=0)"
   ]
  },
  {
   "cell_type": "code",
   "execution_count": 125,
   "metadata": {
    "ExecuteTime": {
     "end_time": "2019-01-03T07:13:36.553943Z",
     "start_time": "2019-01-03T07:13:36.521408Z"
    }
   },
   "outputs": [],
   "source": [
    "df1=df1.astype({'城市级别':'object','楼层':'object','商圈类型':'object','商圈等级':'object','经营性质':'object','店铺类型':'object','地区':'object'})\n",
    "pro_df1=pd.get_dummies(df1)"
   ]
  },
  {
   "cell_type": "code",
   "execution_count": 164,
   "metadata": {
    "ExecuteTime": {
     "end_time": "2019-01-04T02:52:36.181229Z",
     "start_time": "2019-01-04T02:52:36.175725Z"
    }
   },
   "outputs": [
    {
     "data": {
      "text/plain": [
       "Index(['H&M', 'miniso$名创优品', '餐饮$吃喝', '超市', '服装', '家居', '酒店', '美容', '屈臣氏',\n",
       "       '商场$购物', '无印良品', '小区$住宅', '星巴客$Starbucks', '学校', '银行', '面积', '房价',\n",
       "       '城市可支配收入', '租金', '开头门间', '地铁', '商场内部地铁', '距离地铁50m', '地铁50-150',\n",
       "       '地铁150-500', '地铁500以上', '离入口/楼梯口距离', '开业时间30天内', '30-60天', '开业时间大于60',\n",
       "       '日均销售额', '城市级别_1', '城市级别_2', '城市级别_3', '城市级别_4', '城市级别_5', '城市级别_6',\n",
       "       '楼层_-2', '楼层_-1', '楼层_0', '楼层_1', '楼层_2', '楼层_3', '楼层_4', '商圈类型_1',\n",
       "       '商圈类型_2', '商圈类型_3', '商圈类型_4', '商圈等级_1', '商圈等级_2', '商圈等级_3', '商圈等级_4',\n",
       "       '商圈等级_5', '经营性质_1', '经营性质_2', '经营性质_3', '店铺类型_1', '店铺类型_2', '店铺类型_3',\n",
       "       '店铺类型_4', '地区_1', '地区_2', '地区_3', '地区_4', '地区_5', '地区_6', '地区_7'],\n",
       "      dtype='object')"
      ]
     },
     "execution_count": 164,
     "metadata": {},
     "output_type": "execute_result"
    }
   ],
   "source": [
    "pro_df.columns"
   ]
  },
  {
   "cell_type": "code",
   "execution_count": 166,
   "metadata": {
    "ExecuteTime": {
     "end_time": "2019-01-04T03:11:34.358645Z",
     "start_time": "2019-01-04T03:11:34.350641Z"
    }
   },
   "outputs": [],
   "source": [
    "x=x.drop(columns=['商圈等级_5'])"
   ]
  },
  {
   "cell_type": "code",
   "execution_count": 167,
   "metadata": {
    "ExecuteTime": {
     "end_time": "2019-01-04T03:11:50.474860Z",
     "start_time": "2019-01-04T03:11:50.469355Z"
    }
   },
   "outputs": [
    {
     "data": {
      "text/plain": [
       "Index(['H&M', 'miniso$名创优品', '餐饮$吃喝', '超市', '服装', '家居', '酒店', '美容', '屈臣氏',\n",
       "       '商场$购物', '无印良品', '小区$住宅', '星巴客$Starbucks', '学校', '银行', '面积', '房价',\n",
       "       '城市可支配收入', '租金', '开头门间', '地铁', '商场内部地铁', '距离地铁50m', '地铁50-150',\n",
       "       '地铁150-500', '地铁500以上', '离入口/楼梯口距离', '开业时间30天内', '30-60天', '开业时间大于60',\n",
       "       '城市级别_1', '城市级别_2', '城市级别_3', '城市级别_4', '城市级别_5', '城市级别_6', '楼层_-2',\n",
       "       '楼层_-1', '楼层_0', '楼层_1', '楼层_2', '楼层_3', '楼层_4', '商圈类型_1', '商圈类型_2',\n",
       "       '商圈类型_3', '商圈类型_4', '商圈等级_1', '商圈等级_2', '商圈等级_3', '商圈等级_4', '经营性质_1',\n",
       "       '经营性质_2', '经营性质_3', '店铺类型_1', '店铺类型_2', '店铺类型_3', '店铺类型_4', '地区_1',\n",
       "       '地区_2', '地区_3', '地区_4', '地区_5', '地区_6', '地区_7'],\n",
       "      dtype='object')"
      ]
     },
     "execution_count": 167,
     "metadata": {},
     "output_type": "execute_result"
    }
   ],
   "source": [
    "x.columns"
   ]
  },
  {
   "cell_type": "code",
   "execution_count": 126,
   "metadata": {
    "ExecuteTime": {
     "end_time": "2019-01-03T07:14:16.997682Z",
     "start_time": "2019-01-03T07:14:16.961144Z"
    }
   },
   "outputs": [
    {
     "name": "stderr",
     "output_type": "stream",
     "text": [
      "E:\\Anaconda\\lib\\site-packages\\sklearn\\utils\\validation.py:475: DataConversionWarning: Data with input dtype int64 was converted to float64 by StandardScaler.\n",
      "  warnings.warn(msg, DataConversionWarning)\n"
     ]
    }
   ],
   "source": [
    "from sklearn.preprocessing import StandardScaler\n",
    "stand=StandardScaler()\n",
    "for i in pro_df1.columns:\n",
    "    if len(pro_df1.loc[:,i].unique())!=2:\n",
    "        pro_df1.loc[:,i]=stand.fit_transform(pro_df1.loc[:,i].values.reshape((-1,1))).reshape((1,-1))[0]"
   ]
  },
  {
   "cell_type": "code",
   "execution_count": 129,
   "metadata": {
    "ExecuteTime": {
     "end_time": "2019-01-03T07:16:14.958925Z",
     "start_time": "2019-01-03T07:16:14.951920Z"
    }
   },
   "outputs": [],
   "source": [
    "y11=pro_df1['日均销售额']\n",
    "x1=pro_df1.drop(columns=['日均销售额'])\n",
    "\n",
    "#训练与测试集的分离\n",
    "x1_train, x1_test, y1_train, y1_test=train_test_split(x1,y11,test_size=0.1,random_state=20)"
   ]
  },
  {
   "cell_type": "code",
   "execution_count": 130,
   "metadata": {
    "ExecuteTime": {
     "end_time": "2019-01-03T07:17:01.003990Z",
     "start_time": "2019-01-03T07:17:01.000979Z"
    }
   },
   "outputs": [],
   "source": [
    "#交叉验证\n",
    "kf1=KFold(10,random_state=88)"
   ]
  },
  {
   "cell_type": "code",
   "execution_count": 143,
   "metadata": {
    "ExecuteTime": {
     "end_time": "2019-01-03T07:50:21.212123Z",
     "start_time": "2019-01-03T07:50:20.636216Z"
    }
   },
   "outputs": [],
   "source": [
    "errorrs1=[]\n",
    "weightrs1=[]\n",
    "for k in range(11,21):\n",
    "    x1_train, x1_test, y1_train, y1_test=train_test_split(x1,y11,test_size=0.1,random_state=k)\n",
    "    \n",
    "    ridge=RidgeCV(cv=kf1)\n",
    "    #原始数据训练\n",
    "    ridge.fit(x1_train.values,y1_train.values)\n",
    "    predict=ridge.predict(x1_test.values)\n",
    "    #error变量拿到每一次的绝对误差率\n",
    "    errorrs1.append(np.mean(np.abs(predict*9450-y1_test.values*9450)))\n",
    "    dicrs1={}\n",
    "    for i,j in zip(x1_train.columns,ridge.coef_):\n",
    "        dicrs1[i]=j\n",
    "    #weight拿到每一次的特征权重\n",
    "    weightrs1.append(dicrs1)\n",
    "#feature_weight是每个特征每次的权重\n",
    "feature_weightrs1={}\n",
    "for j in weightrs1[0].keys():\n",
    "    a=[]\n",
    "    for i in weightrs1:\n",
    "        a.append(i[j])\n",
    "    feature_weightrs1[j]=a"
   ]
  },
  {
   "cell_type": "code",
   "execution_count": 144,
   "metadata": {
    "ExecuteTime": {
     "end_time": "2019-01-03T07:51:49.573217Z",
     "start_time": "2019-01-03T07:51:49.568715Z"
    }
   },
   "outputs": [
    {
     "data": {
      "text/plain": [
       "0.2616689479981433"
      ]
     },
     "execution_count": 144,
     "metadata": {},
     "output_type": "execute_result"
    }
   ],
   "source": [
    "np.array(errorrs1).mean()/(np.mean(y1.values*9450)+17665.097)"
   ]
  },
  {
   "cell_type": "code",
   "execution_count": 157,
   "metadata": {
    "ExecuteTime": {
     "end_time": "2019-01-04T02:38:21.823964Z",
     "start_time": "2019-01-04T02:38:21.819976Z"
    }
   },
   "outputs": [
    {
     "data": {
      "text/plain": [
       "(343,)"
      ]
     },
     "execution_count": 157,
     "metadata": {},
     "output_type": "execute_result"
    }
   ],
   "source": [
    "y1.shape"
   ]
  },
  {
   "cell_type": "code",
   "execution_count": 168,
   "metadata": {
    "ExecuteTime": {
     "end_time": "2019-01-04T03:12:40.494087Z",
     "start_time": "2019-01-04T03:12:39.895665Z"
    }
   },
   "outputs": [],
   "source": [
    "ab_ERROR=[]\n",
    "for k in range(11,21):\n",
    "    x1_train, x1_test, y1_train, y1_test=train_test_split(x1,y11,test_size=0.1,random_state=k)\n",
    "    \n",
    "    ridge=RidgeCV(cv=kf)\n",
    "    #原始数据训练\n",
    "    ridge.fit(x1_train.values,y1_train.values)\n",
    "    result=ridge.predict(x.values)\n",
    "    #error变量拿到每一次的绝对误差率\n",
    "    ab_ERROR.append((result*9450-y1.values*9450)/(y1.values*9450+17665.097))"
   ]
  },
  {
   "cell_type": "code",
   "execution_count": 170,
   "metadata": {
    "ExecuteTime": {
     "end_time": "2019-01-04T03:12:54.135670Z",
     "start_time": "2019-01-04T03:12:54.123161Z"
    }
   },
   "outputs": [],
   "source": [
    "pd.DataFrame(result*9450+17665.097,index=x.index).to_csv('abs_dele_error.csv')"
   ]
  },
  {
   "cell_type": "code",
   "execution_count": null,
   "metadata": {},
   "outputs": [],
   "source": []
  },
  {
   "cell_type": "code",
   "execution_count": null,
   "metadata": {},
   "outputs": [],
   "source": []
  },
  {
   "cell_type": "code",
   "execution_count": null,
   "metadata": {},
   "outputs": [],
   "source": []
  },
  {
   "cell_type": "code",
   "execution_count": null,
   "metadata": {},
   "outputs": [],
   "source": []
  },
  {
   "cell_type": "code",
   "execution_count": null,
   "metadata": {},
   "outputs": [],
   "source": []
  },
  {
   "cell_type": "code",
   "execution_count": null,
   "metadata": {},
   "outputs": [],
   "source": []
  },
  {
   "cell_type": "code",
   "execution_count": null,
   "metadata": {},
   "outputs": [],
   "source": []
  },
  {
   "cell_type": "code",
   "execution_count": null,
   "metadata": {},
   "outputs": [],
   "source": []
  },
  {
   "cell_type": "code",
   "execution_count": null,
   "metadata": {},
   "outputs": [],
   "source": []
  },
  {
   "cell_type": "code",
   "execution_count": null,
   "metadata": {},
   "outputs": [],
   "source": []
  },
  {
   "cell_type": "code",
   "execution_count": null,
   "metadata": {},
   "outputs": [],
   "source": []
  },
  {
   "cell_type": "code",
   "execution_count": null,
   "metadata": {},
   "outputs": [],
   "source": []
  },
  {
   "cell_type": "code",
   "execution_count": null,
   "metadata": {
    "scrolled": true
   },
   "outputs": [],
   "source": [
    "np.mean(np.abs(predict-df.iloc[320:,27].values)/df.iloc[320:,27].values)"
   ]
  },
  {
   "cell_type": "code",
   "execution_count": null,
   "metadata": {},
   "outputs": [],
   "source": [
    "score.sort()\n",
    "score[0]"
   ]
  },
  {
   "cell_type": "code",
   "execution_count": null,
   "metadata": {},
   "outputs": [],
   "source": [
    "from sklearn.preprocessing import StandardScaler\n",
    "minmax=StandardScaler()\n",
    "data1=minmax.fit_transform(df.values)"
   ]
  },
  {
   "cell_type": "code",
   "execution_count": null,
   "metadata": {},
   "outputs": [],
   "source": [
    "df2=pd.DataFrame(data1,index=df.index,columns=df.columns)"
   ]
  },
  {
   "cell_type": "code",
   "execution_count": null,
   "metadata": {},
   "outputs": [],
   "source": [
    "df2.to_csv('标准化.csv')"
   ]
  },
  {
   "cell_type": "code",
   "execution_count": null,
   "metadata": {},
   "outputs": [],
   "source": [
    "data1[:,:27]"
   ]
  },
  {
   "cell_type": "code",
   "execution_count": null,
   "metadata": {},
   "outputs": [],
   "source": [
    "dic={}\n",
    "for i,j in zip(df.iloc[:320,:i].columns,model.coef_):\n",
    "    dic[i]=j"
   ]
  },
  {
   "cell_type": "code",
   "execution_count": null,
   "metadata": {},
   "outputs": [],
   "source": [
    "dic"
   ]
  },
  {
   "cell_type": "code",
   "execution_count": null,
   "metadata": {},
   "outputs": [],
   "source": []
  },
  {
   "cell_type": "code",
   "execution_count": null,
   "metadata": {},
   "outputs": [],
   "source": [
    "data.values[:,:27]"
   ]
  },
  {
   "cell_type": "code",
   "execution_count": null,
   "metadata": {},
   "outputs": [],
   "source": [
    "kf=KFold(n_splits=6, shuffle=True, random_state=2)"
   ]
  },
  {
   "cell_type": "code",
   "execution_count": null,
   "metadata": {},
   "outputs": [],
   "source": [
    "#模型实例化\n",
    "model2=Ridge()\n",
    "#用前300条数据训练\n",
    "model2.fit(data1[:300,:27],data1[:300,28])\n",
    "#用之后的数据打分\n",
    "model2.score(data1[300:,:27],data1[300:,28])#效果不好"
   ]
  },
  {
   "cell_type": "code",
   "execution_count": null,
   "metadata": {},
   "outputs": [],
   "source": [
    "df.columns"
   ]
  },
  {
   "cell_type": "code",
   "execution_count": null,
   "metadata": {},
   "outputs": [],
   "source": [
    "df[df[]]"
   ]
  },
  {
   "cell_type": "code",
   "execution_count": null,
   "metadata": {},
   "outputs": [],
   "source": [
    "model=LassoCV(n_jobs=-1,cv=kf,max_iter=10000,)\n",
    "model.fit(df.iloc[:300,:27].values,df['日均销售额'][:300].values)"
   ]
  },
  {
   "cell_type": "code",
   "execution_count": null,
   "metadata": {},
   "outputs": [],
   "source": [
    "model.score(df.iloc[300:,:27].values,df['日均销售额'][300:].values)"
   ]
  },
  {
   "cell_type": "code",
   "execution_count": null,
   "metadata": {},
   "outputs": [],
   "source": [
    "model.coef_"
   ]
  },
  {
   "cell_type": "code",
   "execution_count": null,
   "metadata": {},
   "outputs": [],
   "source": []
  },
  {
   "cell_type": "code",
   "execution_count": null,
   "metadata": {},
   "outputs": [],
   "source": []
  },
  {
   "cell_type": "code",
   "execution_count": null,
   "metadata": {},
   "outputs": [],
   "source": []
  },
  {
   "cell_type": "code",
   "execution_count": null,
   "metadata": {},
   "outputs": [],
   "source": []
  },
  {
   "cell_type": "code",
   "execution_count": null,
   "metadata": {},
   "outputs": [],
   "source": [
    "from sklearn.svm import SVR\n",
    "from sklearn.grid_search import GridSearchCV\n",
    "from sklearn.pipeline import Pipeline"
   ]
  },
  {
   "cell_type": "code",
   "execution_count": null,
   "metadata": {},
   "outputs": [],
   "source": [
    "\n",
    "model2=SVR()\n",
    "grid_search = GridSearchCV(model2, param_grid={'epsilon':[1.0, 0.1, 0.01, 0.001], \n",
    "                                               'C':[0.1, 1.0, 0.01, 10]},cv=6)\n",
    "grid_search.fit(df.iloc[:300,1:29].values,df['日均销售额'][:300].values)"
   ]
  },
  {
   "cell_type": "code",
   "execution_count": null,
   "metadata": {},
   "outputs": [],
   "source": [
    "grid_search.best_params_"
   ]
  },
  {
   "cell_type": "code",
   "execution_count": null,
   "metadata": {},
   "outputs": [],
   "source": [
    "grid_search.best_score_"
   ]
  },
  {
   "cell_type": "code",
   "execution_count": null,
   "metadata": {},
   "outputs": [],
   "source": []
  },
  {
   "cell_type": "code",
   "execution_count": null,
   "metadata": {},
   "outputs": [],
   "source": []
  },
  {
   "cell_type": "code",
   "execution_count": null,
   "metadata": {},
   "outputs": [],
   "source": []
  },
  {
   "cell_type": "code",
   "execution_count": null,
   "metadata": {},
   "outputs": [],
   "source": []
  }
 ],
 "metadata": {
  "kernelspec": {
   "display_name": "Python 3",
   "language": "python",
   "name": "python3"
  },
  "language_info": {
   "codemirror_mode": {
    "name": "ipython",
    "version": 3
   },
   "file_extension": ".py",
   "mimetype": "text/x-python",
   "name": "python",
   "nbconvert_exporter": "python",
   "pygments_lexer": "ipython3",
   "version": "3.6.5"
  },
  "toc": {
   "base_numbering": 1,
   "nav_menu": {},
   "number_sections": true,
   "sideBar": true,
   "skip_h1_title": false,
   "title_cell": "Table of Contents",
   "title_sidebar": "Contents",
   "toc_cell": false,
   "toc_position": {
    "height": "calc(100% - 180px)",
    "left": "10px",
    "top": "150px",
    "width": "242px"
   },
   "toc_section_display": true,
   "toc_window_display": true
  }
 },
 "nbformat": 4,
 "nbformat_minor": 2
}
